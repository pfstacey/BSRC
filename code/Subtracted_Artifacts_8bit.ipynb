{
 "cells": [
  {
   "cell_type": "code",
   "execution_count": 1,
   "metadata": {},
   "outputs": [],
   "source": [
    "from __future__ import division\n",
    "import numpy as np\n",
    "import matplotlib.pyplot as plt\n",
    "from matplotlib import gridspec\n",
    "import copy\n",
    "from tqdm import tqdm\n",
    "\n",
    "from EightBitTransit.cTransitingImage import TransitingImage\n",
    "from EightBitTransit.inversion import *\n",
    "from EightBitTransit.misc import *\n",
    "\n",
    "%matplotlib inline"
   ]
  },
  {
   "cell_type": "code",
   "execution_count": 19,
   "metadata": {},
   "outputs": [
    {
     "name": "stderr",
     "output_type": "stream",
     "text": [
      "/Users/piperfrances/anaconda3/envs/py2/lib/python2.7/site-packages/ipykernel_launcher.py:9: DeprecationWarning: `imread` is deprecated!\n",
      "`imread` is deprecated in SciPy 1.0.0, and will be removed in 1.2.0.\n",
      "Use ``imageio.imread`` instead.\n",
      "  if __name__ == '__main__':\n",
      "/Users/piperfrances/anaconda3/envs/py2/lib/python2.7/site-packages/ipykernel_launcher.py:13: DeprecationWarning: elementwise comparison failed; this will raise an error in the future.\n",
      "  del sys.path[0]\n"
     ]
    },
    {
     "data": {
      "image/png": "[encoded data removed]",
      "text/plain": [
       "<Figure size 1152x288 with 2 Axes>"
      ]
     },
     "metadata": {
      "needs_background": "light"
     },
     "output_type": "display_data"
    },
    {
     "name": "stderr",
     "output_type": "stream",
     "text": [
      "/Users/piperfrances/anaconda3/envs/py2/lib/python2.7/site-packages/ipykernel_launcher.py:54: DeprecationWarning: `imread` is deprecated!\n",
      "`imread` is deprecated in SciPy 1.0.0, and will be removed in 1.2.0.\n",
      "Use ``imageio.imread`` instead.\n",
      "/Users/piperfrances/anaconda3/envs/py2/lib/python2.7/site-packages/ipykernel_launcher.py:58: DeprecationWarning: elementwise comparison failed; this will raise an error in the future.\n"
     ]
    }
   ],
   "source": [
    "# the 1.png image is a standard planet\n",
    "times = np.linspace(-35.,35.,500)\n",
    "planet_lowres_SItitle = TransitingImage(imfile=\"/Users/piperfrances/BSRC/code/subtract_artifacts/1.png\",\n",
    "                                    lowres=20,\n",
    "                                    lowrestype=\"mean\", # Calculate the lower-resolution version of the image by averaging \"neighborhoods\" of pixels in the high-res image.\n",
    "                                    lowresround=False, # Let the resulting low-res pixel values take on intermediate values between 0 and 1, i.e. don't round them to 0 or 1.\n",
    "                                    v=0.4,\n",
    "                                    t_ref=0.,\n",
    "                                    t_arr=times)\n",
    "#lowres_SItitle.plot_grid()\n",
    "#print np.shape(lowres_SItitle.opacitymat)\n",
    "    \n",
    "planet_lowres_SItitle_LC, overlapTimes = planet_lowres_SItitle.gen_LC(t_arr=times) \n",
    "    \n",
    "fig, ax = plt.subplots(1,1,figsize=(16,4))\n",
    "ax = plt.axes()\n",
    "ax.plot(overlapTimes,planet_lowres_SItitle_LC,color=\"#1969ea\",ls=\"-\",lw=5)\n",
    "ax.set_ylim(0.0,1.2)\n",
    "plt.xlabel(\"Time [days]\",fontsize=14)\n",
    "plt.ylabel(\"Relative flux\",fontsize=14)\n",
    "plt.title(r\"The low-res image's light curve as it transits left-to-right across the star at $v = 0.4 d^{-1}$\",fontsize=16)\n",
    "ax1 = plt.axes([.095, .2, 0.3, 0.3])\n",
    "ax1.imshow(planet_lowres_SItitle.opacitymat,cmap=\"Greys\",aspect=\"equal\",origin=\"upper\",interpolation='none',vmin=0.,vmax=1.)\n",
    "filename = \"/Users/piperfrances/BSRC/code/results_subtract_artifacts/1\"\n",
    "plt.savefig(filename, fmt=\"png\")\n",
    "plt.show()\n",
    "plt.close()\n",
    "\n",
    "\n",
    "\n",
    "i = 2\n",
    "# subtract_artifacts has 8\n",
    "while i < 9:\n",
    "    times = np.linspace(-35.,35.,500)\n",
    "\n",
    "    # create a TransitingImage object, which reads in an image file and converts it into a matrix of pixels\n",
    "    # transiting the star at velocity v [days**-1], with reference time t_ref [days]\n",
    "#     SItitle = TransitingImage(imfile=\"/Users/piperfrances/BSRC/EightBitTransit/names/\"+str(i)+\".png\",\n",
    "#                               v=0.4,\n",
    "#                               t_ref=0.,\n",
    "#                               t_arr=times)\n",
    "    #SItitle.plot_grid()\n",
    "    #print np.shape(SItitle.opacitymat) # the pixelated image grid. Notice that this is very high-resolution, so the \n",
    "                                       # light curve calculation in the next cell would be slow.\n",
    "\n",
    "    # We can speed up the light curve calculation by specifying a lower image resolution, e.g. 20 pixels in height.\n",
    "    # The image aspect ratio will not change.\n",
    "    lowres_SItitle = TransitingImage(imfile=\"/Users/piperfrances/BSRC/code/subtract_artifacts/\"+str(i)+\".png\",\n",
    "                                     lowres=20,\n",
    "                                     lowrestype=\"mean\", # Calculate the lower-resolution version of the image by averaging \"neighborhoods\" of pixels in the high-res image.\n",
    "                                     lowresround=False, # Let the resulting low-res pixel values take on intermediate values between 0 and 1, i.e. don't round them to 0 or 1.\n",
    "                                     v=0.4,\n",
    "                                     t_ref=0.,\n",
    "                                     t_arr=times)\n",
    "    #lowres_SItitle.plot_grid()\n",
    "    #print np.shape(lowres_SItitle.opacitymat)\n",
    "    \n",
    "    lowres_SItitle_LC, overlapTimes = lowres_SItitle.gen_LC(t_arr=times) \n",
    "    \n",
    "    fig, ax = plt.subplots(1,1,figsize=(16,4))\n",
    "    ax = plt.axes()\n",
    "    ax.plot(overlapTimes,lowres_SItitle_LC,color=\"#1969ea\",ls=\"-\",lw=5)\n",
    "    ax.set_ylim(0.0,1.2)\n",
    "    plt.xlabel(\"Time [days]\",fontsize=14)\n",
    "    plt.ylabel(\"Relative flux\",fontsize=14)\n",
    "    plt.title(r\"The low-res image's light curve as it transits left-to-right across the star at $v = 0.4 d^{-1}$\",fontsize=16)\n",
    "    ax1 = plt.axes([.095, .2, 0.3, 0.3])\n",
    "    ax1.imshow(lowres_SItitle.opacitymat,cmap=\"Greys\",aspect=\"equal\",origin=\"upper\",interpolation='none',vmin=0.,vmax=1.)\n",
    "    filename = \"/Users/piperfrances/BSRC/code/results_subtract_artifacts/\"+str(i)\n",
    "    plt.savefig(filename, fmt=\"png\")\n",
    "    #plt.show()\n",
    "    plt.close()\n",
    "    \n",
    "    #subtracted plot\n",
    "    sub_LC = lowres_SItitle_LC - planet_lowres_SItitle_LC\n",
    "    \n",
    "    fig1, ax3 = plt.subplots(1,1,figsize=(16,4))\n",
    "    ax3 = plt.axes()\n",
    "    ax3.plot(overlapTimes,sub_LC,color=\"red\",ls=\"-\",lw=5)\n",
    "    plt.xlabel(\"Time [days]\",fontsize=14)\n",
    "    plt.ylabel(\"Relative flux\",fontsize=14)\n",
    "    plt.title(r\"Subtraction of Planetary Light Curve from Artifical Light Curve across the star at $v = 0.4 d^{-1}$\",fontsize=16)\n",
    "    ax4 = plt.axes([.04, .2, 0.3, 0.3])\n",
    "    ax4.imshow(lowres_SItitle.opacitymat,cmap=\"Greys\",aspect=\"equal\",origin=\"upper\",interpolation='none',vmin=0.,vmax=1.)\n",
    "    \n",
    "    filename = \"/Users/piperfrances/BSRC/code/results_subtract_artifacts/sub_\"+str(i)\n",
    "    plt.savefig(filename, fmt=\"png\")\n",
    "    #plt.show()\n",
    "    plt.close()\n",
    "    i += 1\n",
    "    \n",
    "    "
   ]
  },
  {
   "cell_type": "code",
   "execution_count": 7,
   "metadata": {},
   "outputs": [
    {
     "data": {
      "text/plain": [
       "array([1.        , 1.        , 1.        , 1.        , 0.9981761 ,\n",
       "       0.99382552, 0.98655709, 0.97416247, 0.960545  , 0.9455028 ,\n",
       "       0.92800709, 0.90975994, 0.89039479, 0.86929753, 0.84771855,\n",
       "       0.82536327, 0.80180836, 0.7775323 , 0.75261567, 0.72739298,\n",
       "       0.70180845, 0.67574515, 0.649267  , 0.62256767, 0.59576913,\n",
       "       0.56900401, 0.54255839, 0.51663763, 0.49227772, 0.4698959 ,\n",
       "       0.45144592, 0.44210266, 0.43898269, 0.43879232, 0.43879232,\n",
       "       0.43879232, 0.43879232, 0.43879232, 0.43879232, 0.439399  ,\n",
       "       0.44511722, 0.45737144, 0.47742489, 0.50090605, 0.52585334,\n",
       "       0.5520059 , 0.57855688, 0.60533086, 0.63212938, 0.65879562,\n",
       "       0.68516984, 0.71106477, 0.73645145, 0.76151913, 0.78632819,\n",
       "       0.81032737, 0.83348214, 0.85555782, 0.87678856, 0.89749538,\n",
       "       0.91650046, 0.93419419, 0.95126905, 0.96583999, 0.9783514 ,\n",
       "       0.99004116, 0.99640958, 0.99885974, 1.        , 1.        ,\n",
       "       1.        , 1.        ])"
      ]
     },
     "execution_count": 7,
     "metadata": {},
     "output_type": "execute_result"
    }
   ],
   "source": []
  },
  {
   "cell_type": "code",
   "execution_count": null,
   "metadata": {},
   "outputs": [],
   "source": []
  }
 ],
 "metadata": {
  "kernelspec": {
   "display_name": "Python 2",
   "language": "python",
   "name": "python2"
  },
  "language_info": {
   "codemirror_mode": {
    "name": "ipython",
    "version": 2
   },
   "file_extension": ".py",
   "mimetype": "text/x-python",
   "name": "python",
   "nbconvert_exporter": "python",
   "pygments_lexer": "ipython2",
   "version": "2.7.16"
  }
 },
 "nbformat": 4,
 "nbformat_minor": 4
}
