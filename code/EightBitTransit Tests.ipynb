{
 "cells": [
  {
   "cell_type": "code",
   "execution_count": 15,
   "metadata": {},
   "outputs": [],
   "source": [
    "from __future__ import division\n",
    "import numpy as np\n",
    "import matplotlib.pyplot as plt\n",
    "from matplotlib import gridspec\n",
    "import copy\n",
    "from tqdm import tqdm\n",
    "\n",
    "from EightBitTransit.EightBitTransit.cTransitingImage import TransitingImage\n",
    "from EightBitTransit.EightBitTransit.inversion import *\n",
    "from EightBitTransit.EightBitTransit.misc import *\n",
    "\n",
    "%matplotlib inline"
   ]
  },
  {
   "cell_type": "code",
   "execution_count": 18,
   "metadata": {},
   "outputs": [
    {
     "ename": "AttributeError",
     "evalue": "module 'scipy.misc' has no attribute 'imread'",
     "output_type": "error",
     "traceback": [
      "\u001b[0;31m---------------------------------------------------------------------------\u001b[0m",
      "\u001b[0;31mAttributeError\u001b[0m                            Traceback (most recent call last)",
      "\u001b[0;32m<ipython-input-18-f11b9b361050>\u001b[0m in \u001b[0;36m<module>\u001b[0;34m\u001b[0m\n\u001b[1;32m      6\u001b[0m                           \u001b[0mv\u001b[0m\u001b[0;34m=\u001b[0m\u001b[0;36m0.4\u001b[0m\u001b[0;34m,\u001b[0m\u001b[0;34m\u001b[0m\u001b[0;34m\u001b[0m\u001b[0m\n\u001b[1;32m      7\u001b[0m                           \u001b[0mt_ref\u001b[0m\u001b[0;34m=\u001b[0m\u001b[0;36m0.\u001b[0m\u001b[0;34m,\u001b[0m\u001b[0;34m\u001b[0m\u001b[0;34m\u001b[0m\u001b[0m\n\u001b[0;32m----> 8\u001b[0;31m                           t_arr=times)\n\u001b[0m\u001b[1;32m      9\u001b[0m \u001b[0mSItitle\u001b[0m\u001b[0;34m.\u001b[0m\u001b[0mplot_grid\u001b[0m\u001b[0;34m(\u001b[0m\u001b[0;34m)\u001b[0m\u001b[0;34m\u001b[0m\u001b[0;34m\u001b[0m\u001b[0m\n\u001b[1;32m     10\u001b[0m \u001b[0mprint\u001b[0m\u001b[0;34m(\u001b[0m\u001b[0mnp\u001b[0m\u001b[0;34m.\u001b[0m\u001b[0mshape\u001b[0m\u001b[0;34m(\u001b[0m\u001b[0mSItitle\u001b[0m\u001b[0;34m.\u001b[0m\u001b[0mopacitymat\u001b[0m\u001b[0;34m)\u001b[0m\u001b[0;34m)\u001b[0m \u001b[0;31m# the pixelated image grid. Notice that this is very high-resolution, so the\u001b[0m\u001b[0;34m\u001b[0m\u001b[0;34m\u001b[0m\u001b[0m\n",
      "\u001b[0;32mEightBitTransit/cTransitingImage.pyx\u001b[0m in \u001b[0;36mEightBitTransit.cTransitingImage.TransitingImage.__init__\u001b[0;34m()\u001b[0m\n",
      "\u001b[0;32mEightBitTransit/cGridFunctions.pyx\u001b[0m in \u001b[0;36mEightBitTransit.cGridFunctions.pixelate_image\u001b[0;34m()\u001b[0m\n",
      "\u001b[0;31mAttributeError\u001b[0m: module 'scipy.misc' has no attribute 'imread'"
     ]
    }
   ],
   "source": [
    "times = np.linspace(-35.,35.,500)\n",
    "\n",
    "# create a TransitingImage object, which reads in an image file and converts it into a matrix of pixels\n",
    "# transiting the star at velocity v [days**-1], with reference time t_ref [days]\n",
    "SItitle = TransitingImage(imfile=\"Piper.png\",\n",
    "                          v=0.4,\n",
    "                          t_ref=0.,\n",
    "                          t_arr=times)\n",
    "SItitle.plot_grid()\n",
    "print np.shape(SItitle.opacitymat) # the pixelated image grid. Notice that this is very high-resolution, so the \n",
    "                                   # light curve calculation in the next cell would be slow.\n",
    "\n",
    "# We can speed up the light curve calculation by specifying a lower image resolution, e.g. 20 pixels in height.\n",
    "# The image aspect ratio will not change.\n",
    "lowres_SItitle = TransitingImage(imfile=\"Piper.png\",\n",
    "                                 lowres=20,\n",
    "                                 lowrestype=\"mean\", # Calculate the lower-resolution version of the image by averaging \"neighborhoods\" of pixels in the high-res image.\n",
    "                                 lowresround=False, # Let the resulting low-res pixel values take on intermediate values between 0 and 1, i.e. don't round them to 0 or 1.\n",
    "                                 v=0.4,\n",
    "                                 t_ref=0.,\n",
    "                                 t_arr=times)\n",
    "lowres_SItitle.plot_grid()\n",
    "print np.shape(lowres_SItitle.opacitymat)"
   ]
  },
  {
   "cell_type": "code",
   "execution_count": null,
   "metadata": {},
   "outputs": [],
   "source": [
    "# Calculate the light curve for this object. This function returns two arrays:\n",
    "#    overlapTimes = the time steps at which the image grid has nonzero overlap with the star, given your choice of times and v;\n",
    "#    SItitle_LC = array of relative fluxes at those time steps\n",
    "lowres_SItitle_LC, overlapTimes = lowres_SItitle.gen_LC(t_arr=times) "
   ]
  },
  {
   "cell_type": "code",
   "execution_count": null,
   "metadata": {},
   "outputs": [],
   "source": []
  }
 ],
 "metadata": {
  "kernelspec": {
   "display_name": "Python 3",
   "language": "python",
   "name": "python3"
  },
  "language_info": {
   "codemirror_mode": {
    "name": "ipython",
    "version": 3
   },
   "file_extension": ".py",
   "mimetype": "text/x-python",
   "name": "python",
   "nbconvert_exporter": "python",
   "pygments_lexer": "ipython3",
   "version": "3.7.6"
  }
 },
 "nbformat": 4,
 "nbformat_minor": 4
}
