{
 "cells": [
  {
   "cell_type": "code",
   "execution_count": 102,
   "metadata": {},
   "outputs": [],
   "source": [
    "from __future__ import division\n",
    "import numpy as np\n",
    "import matplotlib.pyplot as plt\n",
    "from matplotlib import gridspec\n",
    "import copy\n",
    "import astropy\n",
    "import scipy.interpolate as interp\n",
    "from astropy.io import fits\n",
    "\n",
    "from EightBitTransit.cTransitingImage import TransitingImage\n",
    "from EightBitTransit.inversion import *\n",
    "from EightBitTransit.misc import *\n",
    "\n",
    "%matplotlib inline"
   ]
  },
  {
   "cell_type": "code",
   "execution_count": 143,
   "metadata": {},
   "outputs": [
    {
     "name": "stderr",
     "output_type": "stream",
     "text": [
      "/usr/local/lib/python2.7/dist-packages/ipykernel_launcher.py:9: DeprecationWarning: `imread` is deprecated!\n",
      "`imread` is deprecated in SciPy 1.0.0, and will be removed in 1.2.0.\n",
      "Use ``imageio.imread`` instead.\n",
      "  if __name__ == '__main__':\n"
     ]
    },
    {
     "ename": "IOError",
     "evalue": "[Errno 2] No such file or directory: 'ref_planet.png'",
     "output_type": "error",
     "traceback": [
      "\u001b[0;31m---------------------------------------------------------------------------\u001b[0m",
      "\u001b[0;31mIOError\u001b[0m                                   Traceback (most recent call last)",
      "\u001b[0;32m<ipython-input-143-f594af43b56b>\u001b[0m in \u001b[0;36m<module>\u001b[0;34m()\u001b[0m\n\u001b[1;32m      7\u001b[0m                                     \u001b[0mv\u001b[0m\u001b[0;34m=\u001b[0m\u001b[0;36m0.4\u001b[0m\u001b[0;34m,\u001b[0m\u001b[0;34m\u001b[0m\u001b[0m\n\u001b[1;32m      8\u001b[0m                                     \u001b[0mt_ref\u001b[0m\u001b[0;34m=\u001b[0m\u001b[0;36m0.\u001b[0m\u001b[0;34m,\u001b[0m\u001b[0;34m\u001b[0m\u001b[0m\n\u001b[0;32m----> 9\u001b[0;31m                                     t_arr=times)\n\u001b[0m\u001b[1;32m     10\u001b[0m \u001b[0;31m#lowres_SItitle.plot_grid()\u001b[0m\u001b[0;34m\u001b[0m\u001b[0;34m\u001b[0m\u001b[0m\n\u001b[1;32m     11\u001b[0m \u001b[0;31m#print np.shape(lowres_SItitle.opacitymat)\u001b[0m\u001b[0;34m\u001b[0m\u001b[0;34m\u001b[0m\u001b[0m\n",
      "\u001b[0;32mEightBitTransit/cTransitingImage.pyx\u001b[0m in \u001b[0;36mEightBitTransit.cTransitingImage.TransitingImage.__init__\u001b[0;34m()\u001b[0m\n",
      "\u001b[0;32mEightBitTransit/cGridFunctions.pyx\u001b[0m in \u001b[0;36mEightBitTransit.cGridFunctions.pixelate_image\u001b[0;34m()\u001b[0m\n",
      "\u001b[0;32m/usr/local/lib/python2.7/dist-packages/numpy/lib/utils.pyc\u001b[0m in \u001b[0;36mnewfunc\u001b[0;34m(*args, **kwds)\u001b[0m\n\u001b[1;32m     99\u001b[0m             \u001b[0;34m\"\"\"`arrayrange` is deprecated, use `arange` instead!\"\"\"\u001b[0m\u001b[0;34m\u001b[0m\u001b[0m\n\u001b[1;32m    100\u001b[0m             \u001b[0mwarnings\u001b[0m\u001b[0;34m.\u001b[0m\u001b[0mwarn\u001b[0m\u001b[0;34m(\u001b[0m\u001b[0mdepdoc\u001b[0m\u001b[0;34m,\u001b[0m \u001b[0mDeprecationWarning\u001b[0m\u001b[0;34m,\u001b[0m \u001b[0mstacklevel\u001b[0m\u001b[0;34m=\u001b[0m\u001b[0;36m2\u001b[0m\u001b[0;34m)\u001b[0m\u001b[0;34m\u001b[0m\u001b[0m\n\u001b[0;32m--> 101\u001b[0;31m             \u001b[0;32mreturn\u001b[0m \u001b[0mfunc\u001b[0m\u001b[0;34m(\u001b[0m\u001b[0;34m*\u001b[0m\u001b[0margs\u001b[0m\u001b[0;34m,\u001b[0m \u001b[0;34m**\u001b[0m\u001b[0mkwds\u001b[0m\u001b[0;34m)\u001b[0m\u001b[0;34m\u001b[0m\u001b[0m\n\u001b[0m\u001b[1;32m    102\u001b[0m \u001b[0;34m\u001b[0m\u001b[0m\n\u001b[1;32m    103\u001b[0m         \u001b[0mnewfunc\u001b[0m \u001b[0;34m=\u001b[0m \u001b[0m_set_function_name\u001b[0m\u001b[0;34m(\u001b[0m\u001b[0mnewfunc\u001b[0m\u001b[0;34m,\u001b[0m \u001b[0mold_name\u001b[0m\u001b[0;34m)\u001b[0m\u001b[0;34m\u001b[0m\u001b[0m\n",
      "\u001b[0;32m/usr/local/lib/python2.7/dist-packages/scipy/misc/pilutil.pyc\u001b[0m in \u001b[0;36mimread\u001b[0;34m(name, flatten, mode)\u001b[0m\n\u001b[1;32m    162\u001b[0m     \"\"\"\n\u001b[1;32m    163\u001b[0m \u001b[0;34m\u001b[0m\u001b[0m\n\u001b[0;32m--> 164\u001b[0;31m     \u001b[0mim\u001b[0m \u001b[0;34m=\u001b[0m \u001b[0mImage\u001b[0m\u001b[0;34m.\u001b[0m\u001b[0mopen\u001b[0m\u001b[0;34m(\u001b[0m\u001b[0mname\u001b[0m\u001b[0;34m)\u001b[0m\u001b[0;34m\u001b[0m\u001b[0m\n\u001b[0m\u001b[1;32m    165\u001b[0m     \u001b[0;32mreturn\u001b[0m \u001b[0mfromimage\u001b[0m\u001b[0;34m(\u001b[0m\u001b[0mim\u001b[0m\u001b[0;34m,\u001b[0m \u001b[0mflatten\u001b[0m\u001b[0;34m=\u001b[0m\u001b[0mflatten\u001b[0m\u001b[0;34m,\u001b[0m \u001b[0mmode\u001b[0m\u001b[0;34m=\u001b[0m\u001b[0mmode\u001b[0m\u001b[0;34m)\u001b[0m\u001b[0;34m\u001b[0m\u001b[0m\n\u001b[1;32m    166\u001b[0m \u001b[0;34m\u001b[0m\u001b[0m\n",
      "\u001b[0;32m/usr/local/lib/python2.7/dist-packages/PIL/Image.pyc\u001b[0m in \u001b[0;36mopen\u001b[0;34m(fp, mode)\u001b[0m\n\u001b[1;32m   2632\u001b[0m \u001b[0;34m\u001b[0m\u001b[0m\n\u001b[1;32m   2633\u001b[0m     \u001b[0;32mif\u001b[0m \u001b[0mfilename\u001b[0m\u001b[0;34m:\u001b[0m\u001b[0;34m\u001b[0m\u001b[0m\n\u001b[0;32m-> 2634\u001b[0;31m         \u001b[0mfp\u001b[0m \u001b[0;34m=\u001b[0m \u001b[0mbuiltins\u001b[0m\u001b[0;34m.\u001b[0m\u001b[0mopen\u001b[0m\u001b[0;34m(\u001b[0m\u001b[0mfilename\u001b[0m\u001b[0;34m,\u001b[0m \u001b[0;34m\"rb\"\u001b[0m\u001b[0;34m)\u001b[0m\u001b[0;34m\u001b[0m\u001b[0m\n\u001b[0m\u001b[1;32m   2635\u001b[0m         \u001b[0mexclusive_fp\u001b[0m \u001b[0;34m=\u001b[0m \u001b[0mTrue\u001b[0m\u001b[0;34m\u001b[0m\u001b[0m\n\u001b[1;32m   2636\u001b[0m \u001b[0;34m\u001b[0m\u001b[0m\n",
      "\u001b[0;31mIOError\u001b[0m: [Errno 2] No such file or directory: 'ref_planet.png'"
     ]
    }
   ],
   "source": [
    "# extract a known planet from a simulated light curve!\n",
    "times = np.linspace(-35.,35.,500)\n",
    "planet_lowres_SItitle = TransitingImage(imfile=\"large_planet.png\",\n",
    "                                    lowres=100,\n",
    "                                    lowrestype=\"mean\", # Calculate the lower-resolution version of the image by averaging \"neighborhoods\" of pixels in the high-res image.\n",
    "                                    lowresround=False, # Let the resulting low-res pixel values take on intermediate values between 0 and 1, i.e. don't round them to 0 or 1.\n",
    "                                    v=0.4,\n",
    "                                    t_ref=0.,\n",
    "                                    t_arr=times)\n",
    "#lowres_SItitle.plot_grid()\n",
    "#print np.shape(lowres_SItitle.opacitymat)\n",
    "    \n",
    "planet_lowres_SItitle_LC, overlapTimes = planet_lowres_SItitle.gen_LC(t_arr=times) \n",
    "    \n",
    "fig, ax = plt.subplots(1,1,figsize=(16,4))\n",
    "ax = plt.axes()\n",
    "ax.plot(overlapTimes,planet_lowres_SItitle_LC,color=\"#1969ea\",ls=\"-\",lw=5)\n",
    "ax.set_ylim(0.0,1.2)\n",
    "plt.xlabel(\"Time [days]\",fontsize=14)\n",
    "plt.ylabel(\"Relative flux\",fontsize=14)\n",
    "plt.title(r\"The low-res image's light curve as it transits left-to-right across the star at $v = 0.4 d^{-1}$\",fontsize=16)\n",
    "ax1 = plt.axes([.095, .2, 0.3, 0.3])\n",
    "ax1.imshow(planet_lowres_SItitle.opacitymat,cmap=\"Greys\",aspect=\"equal\",origin=\"upper\",interpolation='none',vmin=0.,vmax=1.)\n",
    "#filename = \"/Users/piperfrances/BSRC/code/results_subtract_artifacts/1\"\n",
    "#plt.savefig(filename, fmt=\"png\")\n",
    "plt.show()\n",
    "plt.close()"
   ]
  },
  {
   "cell_type": "code",
   "execution_count": 147,
   "metadata": {},
   "outputs": [
    {
     "data": {
      "text/plain": [
       "[<matplotlib.lines.Line2D at 0x7f9fc1c9d950>]"
      ]
     },
     "execution_count": 147,
     "metadata": {},
     "output_type": "execute_result"
    },
    {
     "data": {
      "image/png": "[encoded data removed]",
      "text/plain": [
       "<matplotlib.figure.Figure at 0x7f9fc42a56d0>"
      ]
     },
     "metadata": {
      "needs_background": "light"
     },
     "output_type": "display_data"
    }
   ],
   "source": [
    "# hdul = fits.open('reference_planet_WASP126.fits')\n",
    "\n",
    "# time = hdul[1].data['TIME']\n",
    "# truth_LC = hdul[1].data['FLUX']\n",
    "# LC_err = hdul[1].data['FLUX_ERR']\n",
    "\n",
    "# LC = hdul[1].data['FLUX'][:800]\n",
    "# time = hdul[1].data['TIME'][:800]\n",
    "\n",
    "# plt.plot(time, LC, '.')\n",
    "\n",
    "hdul = fits.open('large_planet.fits')\n",
    "\n",
    "time = hdul[1].data['TIME']\n",
    "truth_LC = hdul[1].data['FLUX']\n",
    "#LC_err = hdul[1].data['FLUX_ERR']\n",
    "LC_err = truth_LC_err = np.linspace(0, 0, truth_LC.size)\n",
    "\n",
    "LC = hdul[1].data['FLUX'][:800]\n",
    "times = hdul[1].data['TIME'][:800]\n",
    "\n",
    "plt.plot(time, LC, '.')"
   ]
  },
  {
   "cell_type": "code",
   "execution_count": 126,
   "metadata": {},
   "outputs": [],
   "source": [
    "# truth_LC = planet_noisy_LC\n",
    "# times = time-time[400]\n",
    "# truth_LC_err = np.linspace(0, 0, truth_LC.size)"
   ]
  },
  {
   "cell_type": "code",
   "execution_count": 148,
   "metadata": {},
   "outputs": [],
   "source": [
    "# Hcode/, we present an inversion of Dip 5 of Boyajian's Star, by all four of the available inversion algorithm.\n",
    "# This code reproduces figure 12 of Sandford et al. 2018.\n",
    "\n",
    "# Limb-darkening coefficients interpolated from Sing (2010):\n",
    "LDlaw=\"quadratic\"\n",
    "LDCs = [0.1, 0.1] #waiting for Ann Marie to let me know\n",
    "\n",
    "\n",
    "\n",
    "# data = np.genfromtxt(\"./boyajian_dip5_data.csv\",delimiter=\",\")\n",
    "\n",
    "# times = data[:,0]\n",
    "# truth_LC = data[:,1]\n",
    "# truth_LC_err = data[:,2]"
   ]
  },
  {
   "cell_type": "code",
   "execution_count": 149,
   "metadata": {},
   "outputs": [
    {
     "name": "stdout",
     "output_type": "stream",
     "text": [
      "v = 0.4\n"
     ]
    },
    {
     "ename": "ValueError",
     "evalue": "Big-endian buffer not supported on little-endian compiler",
     "output_type": "error",
     "traceback": [
      "\u001b[0;31m---------------------------------------------------------------------------\u001b[0m",
      "\u001b[0;31mValueError\u001b[0m                                Traceback (most recent call last)",
      "\u001b[0;32m<ipython-input-149-c61898fb073d>\u001b[0m in \u001b[0;36m<module>\u001b[0;34m()\u001b[0m\n\u001b[1;32m     58\u001b[0m         \u001b[0marcAvg\u001b[0m \u001b[0;34m=\u001b[0m \u001b[0mnp\u001b[0m\u001b[0;34m.\u001b[0m\u001b[0mload\u001b[0m\u001b[0;34m(\u001b[0m\u001b[0mpath\u001b[0m\u001b[0;34m+\u001b[0m\u001b[0;34m\"_arcAvg_v{0}_N{1}_M{2}.npy\"\u001b[0m\u001b[0;34m.\u001b[0m\u001b[0mformat\u001b[0m\u001b[0;34m(\u001b[0m\u001b[0mv\u001b[0m\u001b[0;34m,\u001b[0m \u001b[0mN\u001b[0m\u001b[0;34m,\u001b[0m \u001b[0mM\u001b[0m\u001b[0;34m)\u001b[0m\u001b[0;34m)\u001b[0m\u001b[0;34m\u001b[0m\u001b[0m\n\u001b[1;32m     59\u001b[0m     \u001b[0;32mexcept\u001b[0m \u001b[0mIOError\u001b[0m\u001b[0;34m:\u001b[0m\u001b[0;34m\u001b[0m\u001b[0m\n\u001b[0;32m---> 60\u001b[0;31m         \u001b[0mavgBasis\u001b[0m \u001b[0;34m=\u001b[0m \u001b[0mmakeArcBasisAverage\u001b[0m\u001b[0;34m(\u001b[0m\u001b[0mN\u001b[0m\u001b[0;34m=\u001b[0m\u001b[0mN\u001b[0m\u001b[0;34m,\u001b[0m \u001b[0mM\u001b[0m\u001b[0;34m=\u001b[0m\u001b[0mM\u001b[0m\u001b[0;34m,\u001b[0m \u001b[0mt_ref\u001b[0m\u001b[0;34m=\u001b[0m\u001b[0mt_ref\u001b[0m\u001b[0;34m,\u001b[0m \u001b[0mv\u001b[0m\u001b[0;34m=\u001b[0m\u001b[0mv\u001b[0m\u001b[0;34m,\u001b[0m \u001b[0mLDlaw\u001b[0m\u001b[0;34m=\u001b[0m\u001b[0mLDlaw\u001b[0m\u001b[0;34m,\u001b[0m \u001b[0mLDCs\u001b[0m\u001b[0;34m=\u001b[0m\u001b[0mLDCs\u001b[0m\u001b[0;34m,\u001b[0m \u001b[0mtimes\u001b[0m\u001b[0;34m=\u001b[0m\u001b[0moverlapTimes\u001b[0m\u001b[0;34m,\u001b[0m \u001b[0mLCdecrements\u001b[0m\u001b[0;34m=\u001b[0m\u001b[0mLCdecs\u001b[0m\u001b[0;34m,\u001b[0m \u001b[0mobsLC\u001b[0m\u001b[0;34m=\u001b[0m\u001b[0moverlappingObsLC\u001b[0m\u001b[0;34m,\u001b[0m \u001b[0mobsLCerr\u001b[0m\u001b[0;34m=\u001b[0m\u001b[0moverlappingObsLCerr\u001b[0m\u001b[0;34m)\u001b[0m\u001b[0;34m\u001b[0m\u001b[0m\n\u001b[0m\u001b[1;32m     61\u001b[0m         \u001b[0marcAvg\u001b[0m \u001b[0;34m=\u001b[0m \u001b[0mnp\u001b[0m\u001b[0;34m.\u001b[0m\u001b[0mmean\u001b[0m\u001b[0;34m(\u001b[0m\u001b[0mavgBasis\u001b[0m\u001b[0;34m,\u001b[0m\u001b[0maxis\u001b[0m\u001b[0;34m=\u001b[0m\u001b[0;36m0\u001b[0m\u001b[0;34m)\u001b[0m\u001b[0;34m\u001b[0m\u001b[0m\n\u001b[1;32m     62\u001b[0m         \u001b[0mnp\u001b[0m\u001b[0;34m.\u001b[0m\u001b[0msave\u001b[0m\u001b[0;34m(\u001b[0m\u001b[0mpath\u001b[0m\u001b[0;34m+\u001b[0m\u001b[0;34m\"_arcAvg_v{0}_N{1}_M{2}.npy\"\u001b[0m\u001b[0;34m.\u001b[0m\u001b[0mformat\u001b[0m\u001b[0;34m(\u001b[0m\u001b[0mv\u001b[0m\u001b[0;34m,\u001b[0m \u001b[0mN\u001b[0m\u001b[0;34m,\u001b[0m \u001b[0mM\u001b[0m\u001b[0;34m)\u001b[0m\u001b[0;34m,\u001b[0m \u001b[0marcAvg\u001b[0m\u001b[0;34m)\u001b[0m\u001b[0;34m\u001b[0m\u001b[0m\n",
      "\u001b[0;32mEightBitTransit/inversion.pyx\u001b[0m in \u001b[0;36mEightBitTransit.inversion.makeArcBasisAverage\u001b[0;34m()\u001b[0m\n",
      "\u001b[0;31mValueError\u001b[0m: Big-endian buffer not supported on little-endian compiler"
     ]
    },
    {
     "data": {
      "image/png": "[encoded data removed]",
      "text/plain": [
       "<matplotlib.figure.Figure at 0x7f9fc0bf5310>"
      ]
     },
     "metadata": {
      "needs_background": "light"
     },
     "output_type": "display_data"
    }
   ],
   "source": [
    "test_vs = np.array((0.4,0.8,1.6,3.2))\n",
    "\n",
    "ref = np.int(np.ceil((times.size/2)))\n",
    "\n",
    "t_ref=3\n",
    "\n",
    "path = \"/mnt_home/pstacey/py2/BSRC/code/huger_ref_planet_LC_to_MGSTRCT\"\n",
    "\n",
    "fig = plt.figure(figsize=(16,3*len(test_vs)))\n",
    "gs = gridspec.GridSpec(len(test_vs)*5, 7)\n",
    "\n",
    "maxmax=0.\n",
    "\n",
    "for i in range(0, len(test_vs)):\n",
    "    v = test_vs[i]\n",
    "    print \"v = {0}\".format(v)\n",
    "    \n",
    "    # N chosen to be the highest possible integer value at each v, given that M is calculated from v (see below)\n",
    "    # and that N * M cannot exceed the number of observed data points.\n",
    "    if v < 1.0:\n",
    "        N = 10\n",
    "    elif v < 2.0:\n",
    "        N = 7\n",
    "    else:\n",
    "        N = 5\n",
    "    \n",
    "    w = 2./N\n",
    "    M = int(np.ceil((2.*(t_ref - np.min(times))*v - 2.)/w))\n",
    "    #M = int(np.ceil(N/2))\n",
    "    \n",
    "    \n",
    "    ti = TransitingImage(opacitymat=np.zeros((N,M)), LDlaw=LDlaw, LDCs=LDCs, v=v, t_ref=t_ref, t_arr=times)\n",
    "    trial_LC, overlapTimes = ti.gen_LC(times)\n",
    "    \n",
    "    tMin = t_ref - (2. + ti.w*M)/(2.*v)\n",
    "    tMax = t_ref + (2. + ti.w*M)/(2.*v)\n",
    "    overlappingTimesMask = (times > tMin) & (times < tMax)\n",
    "        \n",
    "    overlappingObsLC = truth_LC[overlappingTimesMask]\n",
    "    overlappingObsLCerr = truth_LC_err[overlappingTimesMask]\n",
    "    \n",
    "    # Since the light blocked by each pixel at each time step does not depend on the pixel's opacity, we can calculate it in advance to save time.\n",
    "    try:\n",
    "        LCdecs = np.load(path+\"_LCdecs_v{0}_N{1}_M{2}.npy\".format(v, N, M))\n",
    "    except IOError:\n",
    "        LCdecs = calculateLCdecrements(N=N,M=M,LDlaw=LDlaw, LDCs=LDCs, v=v, t_ref=t_ref, times=overlapTimes)\n",
    "        np.save(path+\"_LCdecs_v{0}_N{1}_M{2}.npy\".format(v, N, M), LCdecs)\n",
    "   \n",
    "    arcAvg_ax = plt.subplot(gs[5*i, 0:5])\n",
    "    SART_ax = plt.subplot(gs[5*i+1, 0:5])\n",
    "    pars_ax = plt.subplot(gs[5*i+2, 0:5])\n",
    "    comb_ax = plt.subplot(gs[5*i+3, 0:5])\n",
    "    \n",
    "    LC_ax = plt.subplot(gs[5*i:5*i+4, 5:])\n",
    "    \n",
    "    #Arc-averaging\n",
    "    try: \n",
    "        arcAvg = np.load(path+\"_arcAvg_v{0}_N{1}_M{2}.npy\".format(v, N, M))\n",
    "    except IOError:\n",
    "        avgBasis = makeArcBasisAverage(N=N, M=M, t_ref=t_ref, v=v, LDlaw=LDlaw, LDCs=LDCs, times=overlapTimes, LCdecrements=LCdecs, obsLC=overlappingObsLC, obsLCerr=overlappingObsLCerr)\n",
    "        arcAvg = np.mean(avgBasis,axis=0)\n",
    "        np.save(path+\"_arcAvg_v{0}_N{1}_M{2}.npy\".format(v, N, M), arcAvg)\n",
    "\n",
    "    arcAvg = arcAvg.reshape(N,M)\n",
    "    arcAvg = ((arcAvg + arcAvg[::-1,:])/2.)\n",
    "    \n",
    "    arcAvg_ti = TransitingImage(opacitymat=arcAvg, LDlaw=LDlaw, LDCs=LDCs, v=v, t_ref=t_ref, t_arr=overlapTimes)\n",
    "    arcAvg_LC, overlapTimes = arcAvg_ti.gen_LC(overlapTimes)\n",
    "    \n",
    "    arcAvg = renormBasis(arcAvg,arcAvg_LC,truth_LC)\n",
    "    arcAvg_ti = TransitingImage(opacitymat=arcAvg, LDlaw=LDlaw, LDCs=LDCs, v=v, t_ref=t_ref, t_arr=overlapTimes)\n",
    "    arcAvg_LC, overlapTimes = arcAvg_ti.gen_LC(overlapTimes)\n",
    "    \n",
    "    if np.max(arcAvg) > maxmax:\n",
    "        maxmax = np.max(arcAvg)\n",
    "        \n",
    "        \n",
    "    # arc combinatorics\n",
    "    try:\n",
    "        comb = np.load(path+\"_arcCombinatorics_v{0}_N{1}_M{2}.npy\".format(v, N, M))\n",
    "    except IOError:\n",
    "        combBasis = makeArcBasisCombinatoric(N=N, M=M, t_ref=t_ref, v=v, LDlaw=LDlaw, LDCs=LDCs, times=overlapTimes, LCdecrements=LCdecs, obsLC=overlappingObsLC, obsLCerr=overlappingObsLCerr)\n",
    "        comb = np.mean(combBasis,axis=0)\n",
    "        np.save(path+\"_arcCombinatorics_v{0}_N{1}_M{2}.npy\".format(v, N, M), comb)\n",
    "    \n",
    "    comb = comb.reshape(N,M)\n",
    "    comb = ((comb + comb[::-1,:])/2.)\n",
    "    \n",
    "    comb_ti = TransitingImage(opacitymat=comb, LDlaw=LDlaw, LDCs=LDCs, v=v, t_ref=t_ref, t_arr=overlapTimes)\n",
    "    comb_LC, overlapTimes = comb_ti.gen_LC(overlapTimes)\n",
    "    \n",
    "    comb = renormBasis(comb,comb_LC,truth_LC)\n",
    "    comb_ti = TransitingImage(opacitymat=comb, LDlaw=LDlaw, LDCs=LDCs, v=v, t_ref=t_ref, t_arr=overlapTimes)\n",
    "    comb_LC, overlapTimes = comb_ti.gen_LC(overlapTimes)\n",
    "    \n",
    "    arcAvgImg = arcAvg_ax.imshow(arcAvg, cmap='Greys', interpolation='nearest',vmin=0.,vmax=maxmax)\n",
    "    \n",
    "    parsImg = pars_ax.imshow(pars, cmap='Greys', interpolation='nearest',vmin=0.,vmax=maxmax)\n",
    "    \n",
    "    LC_ax.plot(overlapTimes-t_ref, overlappingObsLC,'k-',lw=3,label='Truth')\n",
    "    LC_ax.plot(overlapTimes-t_ref, arcAvg_LC,ls='-',lw=1.5,color='#F90000',label='Arc-averaging')\n",
    "    LC_ax.plot(overlapTimes-t_ref, comb_LC,ls='-',lw=1.5,color='#FCBF49',label='Arc combinatorics')\n",
    "    LC_ax.set_ylim(np.min(truth_LC)-0.01,1.01)\n",
    "    LC_ax.set_xlim(-4.85-t_ref, 6.01)\n",
    "    \n",
    "    arcAvg_ax.plot(np.array((-5)), np.array((N/2.)), marker='o',mec='k',mew=2,color='#F90000',ms=15, clip_on=False)\n",
    "    comb_ax.plot(np.array((-5)), np.array((N/2.)), marker='o',mec='k',mew=2,color='#FCBF49',ms=15, clip_on=False)\n",
    "    \n",
    "    for ax in [arcAvg_ax, comb_ax]:\n",
    "        ax.set_xlim(-0.5,M-0.5)\n",
    "        ax.set_ylim(-0.5,N-0.5)\n",
    "        ax.set_xticks([])\n",
    "        ax.set_yticks([])\n",
    "        \n",
    "    LC_ax.set_xticks(np.arange(-6,7,2))\n",
    "    LC_ax.set_yticks(np.arange(0.85,1.01,0.05))  \n",
    "    LC_ax.set_xticklabels([])\n",
    "    LC_ax.set_yticklabels([])  \n",
    "    LC_ax.yaxis.tick_right()\n",
    "    \n",
    "plt.show()\n",
    "    \n",
    "    "
   ]
  },
  {
   "cell_type": "code",
   "execution_count": 78,
   "metadata": {},
   "outputs": [
    {
     "data": {
      "image/png": "[encoded data removed]",
      "text/plain": [
       "<matplotlib.figure.Figure at 0x7f9fc18d0dd0>"
      ]
     },
     "metadata": {
      "needs_background": "light"
     },
     "output_type": "display_data"
    }
   ],
   "source": [
    "plt.clf()\n",
    "arcAvg_ax = plt.subplot(gs[5*i, 0:5])\n",
    "SART_ax = plt.subplot(gs[5*i+1, 0:5])\n",
    "pars_ax = plt.subplot(gs[5*i+2, 0:5])\n",
    "comb_ax = plt.subplot(gs[5*i+3, 0:5])\n",
    "    \n",
    "LC_ax = plt.subplot(gs[5*i:5*i+4, 5:])\n",
    "\n",
    "arcAvgImg = arcAvg_ax.imshow(arcAvg, cmap='Greys', interpolation='nearest',vmin=0.,vmax=maxmax)\n",
    "\n",
    "parsImg = pars_ax.imshow(pars, cmap='Greys', interpolation='nearest',vmin=0.,vmax=maxmax)\n",
    "    \n",
    "LC_ax.plot(overlapTimes-t_ref, overlappingObsLC,'k-',lw=3,label='Truth')\n",
    "LC_ax.plot(overlapTimes-t_ref, arcAvg_LC,ls='-',lw=1.5,color='#F90000',label='Arc-averaging')\n",
    "LC_ax.plot(overlapTimes-t_ref, comb_LC,ls='-',lw=1.5,color='#FCBF49',label='Arc combinatorics')\n",
    "#LC_ax.set_ylim(np.min(truth_LC)-0.01,1.01)\n",
    "#LC_ax.set_xlim(-4.85-t_ref, 6.01)\n",
    "    \n",
    "arcAvg_ax.plot(np.array((-5)), np.array((N/2.)), marker='o',mec='k',mew=2,color='#F90000',ms=15, clip_on=False)\n",
    "comb_ax.plot(np.array((-5)), np.array((N/2.)), marker='o',mec='k',mew=2,color='#FCBF49',ms=15, clip_on=False)\n",
    "    \n",
    "for ax in [arcAvg_ax, comb_ax]:\n",
    "#     ax.set_xlim(-0.5,M-0.5)\n",
    "#     ax.set_ylim(-0.5,N-0.5)\n",
    "    ax.set_xticks([])\n",
    "    ax.set_yticks([])\n",
    "        \n",
    "LC_ax.set_xticks(np.arange(-6,7,2))\n",
    "LC_ax.set_yticks(np.arange(0.85,1.01,0.05))  \n",
    "LC_ax.set_xticklabels([])\n",
    "LC_ax.set_yticklabels([])  \n",
    "LC_ax.yaxis.tick_right()\n",
    "\n",
    "plt.show()"
   ]
  },
  {
   "cell_type": "code",
   "execution_count": 80,
   "metadata": {},
   "outputs": [
    {
     "data": {
      "image/png": "[encoded data removed]",
      "text/plain": [
       "<matplotlib.figure.Figure at 0x7f9fc160e190>"
      ]
     },
     "metadata": {
      "needs_background": "light"
     },
     "output_type": "display_data"
    }
   ],
   "source": [
    "plt.plot(overlapTimes-times[ref], overlappingObsLC,'k-',lw=3,label='Truth')\n",
    "plt.plot(overlapTimes-times[ref], arcAvg_LC,ls='-',lw=1.5,color='#F90000',label='Arc-averaging')\n",
    "plt.plot(overlapTimes-times[ref], comb_LC,ls='-',lw=1.5,color='#FCBF49',label='Arc combinatorics')\n",
    "plt.legend()\n",
    "plt.show()"
   ]
  },
  {
   "cell_type": "code",
   "execution_count": 101,
   "metadata": {},
   "outputs": [
    {
     "data": {
      "text/plain": [
       "<matplotlib.figure.Figure at 0x7f9fc2a44d90>"
      ]
     },
     "metadata": {},
     "output_type": "display_data"
    },
    {
     "data": {
      "image/png": "[encoded data removed]",
      "text/plain": [
       "<matplotlib.figure.Figure at 0x7f9fc2b1cc10>"
      ]
     },
     "metadata": {
      "needs_background": "light"
     },
     "output_type": "display_data"
    }
   ],
   "source": [
    "plt.clf()\n",
    "plt.figure(figsize=(30, 15))\n",
    "arcAvg_ax = plt.subplot(gs[5*i, 0:5])\n",
    "comb_ax = plt.subplot(gs[5*i+2, 0:5])\n",
    "\n",
    "arcAvgImg = arcAvg_ax.imshow(arcAvg, interpolation='nearest',vmin=0.,vmax=maxmax)\n",
    "arcAvg_ax.plot(np.array((-5)), np.array((N/2.)), marker='o',mec='k',mew=2,color='#F90000',ms=10, clip_on=False)\n",
    "arcAvg_ax.set_title(\"Arc-averaging\")\n",
    "\n",
    "combImg = comb_ax.imshow(comb, interpolation='nearest',vmin=0.,vmax=maxmax)\n",
    "comb_ax.plot(np.array((-5)), np.array((N/2.)), marker='o',mec='k',mew=2,color='#FCBF49',ms=10, clip_on=False)\n",
    "comb_ax.set_title(\"Arc combinatorics\")\n",
    "plt.show()"
   ]
  },
  {
   "cell_type": "code",
   "execution_count": 115,
   "metadata": {},
   "outputs": [
    {
     "data": {
      "text/plain": [
       "500"
      ]
     },
     "execution_count": 115,
     "metadata": {},
     "output_type": "execute_result"
    }
   ],
   "source": [
    "len(overlappingTimesMask)"
   ]
  },
  {
   "cell_type": "code",
   "execution_count": 116,
   "metadata": {},
   "outputs": [
    {
     "data": {
      "text/plain": [
       "800"
      ]
     },
     "execution_count": 116,
     "metadata": {},
     "output_type": "execute_result"
    }
   ],
   "source": [
    "len(truth_LC)"
   ]
  },
  {
   "cell_type": "code",
   "execution_count": 123,
   "metadata": {},
   "outputs": [
    {
     "data": {
      "text/plain": [
       "500"
      ]
     },
     "execution_count": 123,
     "metadata": {},
     "output_type": "execute_result"
    }
   ],
   "source": [
    "len(times)"
   ]
  },
  {
   "cell_type": "code",
   "execution_count": 129,
   "metadata": {},
   "outputs": [
    {
     "data": {
      "text/plain": [
       "-9"
      ]
     },
     "execution_count": 129,
     "metadata": {},
     "output_type": "execute_result"
    }
   ],
   "source": [
    "M"
   ]
  },
  {
   "cell_type": "code",
   "execution_count": 150,
   "metadata": {},
   "outputs": [
    {
     "data": {
      "text/plain": [
       "u'/mnt_home/pstacey/py2/BSRC/code'"
      ]
     },
     "execution_count": 150,
     "metadata": {},
     "output_type": "execute_result"
    }
   ],
   "source": [
    "pwd"
   ]
  },
  {
   "cell_type": "code",
   "execution_count": null,
   "metadata": {},
   "outputs": [],
   "source": []
  }
 ],
 "metadata": {
  "kernelspec": {
   "display_name": "Python 2",
   "language": "python",
   "name": "python2"
  },
  "language_info": {
   "codemirror_mode": {
    "name": "ipython",
    "version": 2
   },
   "file_extension": ".py",
   "mimetype": "text/x-python",
   "name": "python",
   "nbconvert_exporter": "python",
   "pygments_lexer": "ipython2",
   "version": "2.7.12"
  }
 },
 "nbformat": 4,
 "nbformat_minor": 4
}
