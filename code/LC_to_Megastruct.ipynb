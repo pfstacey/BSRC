{
 "cells": [
  {
   "cell_type": "code",
   "execution_count": null,
   "metadata": {},
   "outputs": [],
   "source": [
    "from __future__ import division\n",
    "import numpy as np\n",
    "import matplotlib.pyplot as plt\n",
    "from matplotlib import gridspec\n",
    "import copy\n",
    "from astropy.io import fits\n",
    "\n",
    "from EightBitTransit.cTransitingImage import TransitingImage\n",
    "from EightBitTransit.inversion import *\n",
    "from EightBitTransit.misc import *\n",
    "\n",
    "import scipy.interpolate as interp\n",
    "\n",
    "#%matplotlib inline"
   ]
  },
  {
   "cell_type": "code",
   "execution_count": 2,
   "metadata": {},
   "outputs": [
    {
     "name": "stderr",
     "output_type": "stream",
     "text": [
      "/Users/piperfrances/anaconda3/envs/py2/lib/python2.7/site-packages/ipykernel_launcher.py:9: DeprecationWarning: `imread` is deprecated!\n",
      "`imread` is deprecated in SciPy 1.0.0, and will be removed in 1.2.0.\n",
      "Use ``imageio.imread`` instead.\n",
      "  if __name__ == '__main__':\n",
      "/Users/piperfrances/anaconda3/envs/py2/lib/python2.7/site-packages/ipykernel_launcher.py:13: DeprecationWarning: elementwise comparison failed; this will raise an error in the future.\n",
      "  del sys.path[0]\n"
     ]
    },
    {
     "data": {
      "image/png": "[encoded data removed]",
      "text/plain": [
       "<Figure size 1152x288 with 2 Axes>"
      ]
     },
     "metadata": {
      "needs_background": "light"
     },
     "output_type": "display_data"
    }
   ],
   "source": [
    "# extract a known planet from a simulated light curve!\n",
    "times = np.linspace(-35.,35.,500)\n",
    "planet_lowres_SItitle = TransitingImage(imfile=\"/Users/piperfrances/BSRC/code/ref_planet_larger.png\",\n",
    "                                    lowres=100,\n",
    "                                    lowrestype=\"mean\", # Calculate the lower-resolution version of the image by averaging \"neighborhoods\" of pixels in the high-res image.\n",
    "                                    lowresround=False, # Let the resulting low-res pixel values take on intermediate values between 0 and 1, i.e. don't round them to 0 or 1.\n",
    "                                    v=0.4,\n",
    "                                    t_ref=0.,\n",
    "                                    t_arr=times)\n",
    "#lowres_SItitle.plot_grid()\n",
    "#print np.shape(lowres_SItitle.opacitymat)\n",
    "    \n",
    "planet_lowres_SItitle_LC, overlapTimes = planet_lowres_SItitle.gen_LC(t_arr=times) \n",
    "    \n",
    "fig, ax = plt.subplots(1,1,figsize=(16,4))\n",
    "ax = plt.axes()\n",
    "ax.plot(overlapTimes,planet_lowres_SItitle_LC,color=\"#1969ea\",ls=\"-\",lw=5)\n",
    "ax.set_ylim(0.0,1.2)\n",
    "plt.xlabel(\"Time [days]\",fontsize=14)\n",
    "plt.ylabel(\"Relative flux\",fontsize=14)\n",
    "plt.title(r\"The low-res image's light curve as it transits left-to-right across the star at $v = 0.4 d^{-1}$\",fontsize=16)\n",
    "ax1 = plt.axes([.095, .2, 0.3, 0.3])\n",
    "ax1.imshow(planet_lowres_SItitle.opacitymat,cmap=\"Greys\",aspect=\"equal\",origin=\"upper\",interpolation='none',vmin=0.,vmax=1.)\n",
    "#filename = \"/Users/piperfrances/BSRC/code/results_subtract_artifacts/1\"\n",
    "#plt.savefig(filename, fmt=\"png\")\n",
    "plt.show()\n",
    "plt.close()"
   ]
  },
  {
   "cell_type": "code",
   "execution_count": 28,
   "metadata": {},
   "outputs": [],
   "source": [
    "planet_interp_LC = interp.interp1d(np.arange(planet_lowres_SItitle_LC.size),planet_lowres_SItitle_LC)\n",
    "truth_LC = planet_interp_LC(np.linspace(0,planet_lowres_SItitle_LC.size-1,times.size))\n",
    "\n",
    "truth_LC_err = np.linspace(0, 0, truth_LC.size)"
   ]
  },
  {
   "cell_type": "code",
   "execution_count": 29,
   "metadata": {},
   "outputs": [
    {
     "name": "stdout",
     "output_type": "stream",
     "text": [
      "v = 0.4\n"
     ]
    },
    {
     "name": "stderr",
     "output_type": "stream",
     "text": [
      "/Users/piperfrances/anaconda3/envs/py2/lib/python2.7/site-packages/ipykernel_launcher.py:86: RuntimeWarning: divide by zero encountered in true_divide\n",
      "/Users/piperfrances/anaconda3/envs/py2/lib/python2.7/site-packages/ipykernel_launcher.py:86: RuntimeWarning: invalid value encountered in true_divide\n"
     ]
    },
    {
     "ename": "KeyboardInterrupt",
     "evalue": "",
     "output_type": "error",
     "traceback": [
      "\u001b[0;31m-----------------------------------------------------------\u001b[0m",
      "\u001b[0;31mKeyboardInterrupt\u001b[0m         Traceback (most recent call last)",
      "\u001b[0;32m<ipython-input-29-36bf4aae4938>\u001b[0m in \u001b[0;36m<module>\u001b[0;34m()\u001b[0m\n\u001b[1;32m     84\u001b[0m                             \u001b[0mobsLC\u001b[0m\u001b[0;34m=\u001b[0m\u001b[0moverlappingObsLC\u001b[0m\u001b[0;34m,\u001b[0m \u001b[0mobsLCerr\u001b[0m\u001b[0;34m=\u001b[0m\u001b[0moverlappingObsLCerr\u001b[0m\u001b[0;34m,\u001b[0m\u001b[0;34m\u001b[0m\u001b[0m\n\u001b[1;32m     85\u001b[0m                             \u001b[0mLDlaw\u001b[0m\u001b[0;34m=\u001b[0m\u001b[0mLDlaw\u001b[0m\u001b[0;34m,\u001b[0m\u001b[0mLDCs\u001b[0m\u001b[0;34m=\u001b[0m\u001b[0mLDCs\u001b[0m\u001b[0;34m,\u001b[0m\u001b[0;34m\u001b[0m\u001b[0m\n\u001b[0;32m---> 86\u001b[0;31m                             **{\"n_iter\":10000,\"filename\":\"{0}{1}_quadraticLD_{2}_N{3}_M{4}\".format(\"./boyajiansStar_dip5_v\", v, 10000, N, M),\"initstate\":\"uniform\"})\n\u001b[0m\u001b[1;32m     87\u001b[0m         \u001b[0mraveledtau\u001b[0m \u001b[0;34m=\u001b[0m \u001b[0mnp\u001b[0m\u001b[0;34m.\u001b[0m\u001b[0mgenfromtxt\u001b[0m\u001b[0;34m(\u001b[0m\u001b[0mpath\u001b[0m\u001b[0;34m+\u001b[0m\u001b[0;34m\"_v{0}_quadraticLD_10000_N{1}_M{2}_taus.txt\"\u001b[0m\u001b[0;34m.\u001b[0m\u001b[0mformat\u001b[0m\u001b[0;34m(\u001b[0m\u001b[0mv\u001b[0m\u001b[0;34m,\u001b[0m \u001b[0mN\u001b[0m\u001b[0;34m,\u001b[0m \u001b[0mM\u001b[0m\u001b[0;34m)\u001b[0m\u001b[0;34m)\u001b[0m\u001b[0;34m[\u001b[0m\u001b[0;34m-\u001b[0m\u001b[0;36m1\u001b[0m\u001b[0;34m]\u001b[0m\u001b[0;34m\u001b[0m\u001b[0m\n\u001b[1;32m     88\u001b[0m \u001b[0;34m\u001b[0m\u001b[0m\n",
      "\u001b[0;32mEightBitTransit/inversion.pyx\u001b[0m in \u001b[0;36mEightBitTransit.inversion.invertLC\u001b[0;34m()\u001b[0m\n",
      "\u001b[0;32mEightBitTransit/inversion.pyx\u001b[0m in \u001b[0;36mEightBitTransit.inversion.simultaneous_ART\u001b[0;34m()\u001b[0m\n",
      "\u001b[0;32m/Users/piperfrances/anaconda3/envs/py2/lib/python2.7/site-packages/numpy/core/fromnumeric.pyc\u001b[0m in \u001b[0;36msum\u001b[0;34m(a, axis, dtype, out, keepdims, initial)\u001b[0m\n\u001b[1;32m   1964\u001b[0m \u001b[0;34m\u001b[0m\u001b[0m\n\u001b[1;32m   1965\u001b[0m \u001b[0;34m\u001b[0m\u001b[0m\n\u001b[0;32m-> 1966\u001b[0;31m \u001b[0;34m@\u001b[0m\u001b[0marray_function_dispatch\u001b[0m\u001b[0;34m(\u001b[0m\u001b[0m_sum_dispatcher\u001b[0m\u001b[0;34m)\u001b[0m\u001b[0;34m\u001b[0m\u001b[0m\n\u001b[0m\u001b[1;32m   1967\u001b[0m \u001b[0;32mdef\u001b[0m \u001b[0msum\u001b[0m\u001b[0;34m(\u001b[0m\u001b[0ma\u001b[0m\u001b[0;34m,\u001b[0m \u001b[0maxis\u001b[0m\u001b[0;34m=\u001b[0m\u001b[0mNone\u001b[0m\u001b[0;34m,\u001b[0m \u001b[0mdtype\u001b[0m\u001b[0;34m=\u001b[0m\u001b[0mNone\u001b[0m\u001b[0;34m,\u001b[0m \u001b[0mout\u001b[0m\u001b[0;34m=\u001b[0m\u001b[0mNone\u001b[0m\u001b[0;34m,\u001b[0m \u001b[0mkeepdims\u001b[0m\u001b[0;34m=\u001b[0m\u001b[0mnp\u001b[0m\u001b[0;34m.\u001b[0m\u001b[0m_NoValue\u001b[0m\u001b[0;34m,\u001b[0m \u001b[0minitial\u001b[0m\u001b[0;34m=\u001b[0m\u001b[0mnp\u001b[0m\u001b[0;34m.\u001b[0m\u001b[0m_NoValue\u001b[0m\u001b[0;34m)\u001b[0m\u001b[0;34m:\u001b[0m\u001b[0;34m\u001b[0m\u001b[0m\n\u001b[1;32m   1968\u001b[0m     \"\"\"\n",
      "\u001b[0;31mKeyboardInterrupt\u001b[0m: "
     ]
    },
    {
     "data": {
      "image/png": "[encoded data removed]",
      "text/plain": [
       "<Figure size 1152x864 with 5 Axes>"
      ]
     },
     "metadata": {
      "needs_background": "light"
     },
     "output_type": "display_data"
    }
   ],
   "source": [
    "LDlaw=\"quadratic\"\n",
    "LDCs = [0.34, 0.34]\n",
    "\n",
    "test_vs = np.array((0.4,0.8,1.6,3.2))\n",
    "\n",
    "ref = np.int(np.ceil((times.size/2)))\n",
    "\n",
    "t_ref=times[ref]\n",
    "\n",
    "path = \"/Users/piperfrances/BSRC/code/ref_planet_LC_to_MGSTRCT\"\n",
    "\n",
    "fig = plt.figure(figsize=(16,3*len(test_vs)))\n",
    "gs = gridspec.GridSpec(len(test_vs)*5, 7)\n",
    "\n",
    "maxmax=0.\n",
    "\n",
    "for i in range(0, len(test_vs)):\n",
    "    v = test_vs[i]\n",
    "    print \"v = {0}\".format(v)\n",
    "    \n",
    "    # N chosen to be the highest possible integer value at each v, given that M is calculated from v (see below)\n",
    "    # and that N * M cannot exceed the number of observed data points.\n",
    "    if v < 1.0:\n",
    "        N = 10\n",
    "    elif v < 2.0:\n",
    "        N = 7\n",
    "    else:\n",
    "        N = 5\n",
    "    \n",
    "    w = 2./N\n",
    "    M = int(np.ceil((2.*(t_ref - np.min(times))*v - 2.)/w))\n",
    "    \n",
    "    \n",
    "    ti = TransitingImage(opacitymat=np.zeros((N,M)), LDlaw=LDlaw, LDCs=LDCs, v=v, t_ref=t_ref, t_arr=times)\n",
    "    trial_LC, overlapTimes = ti.gen_LC(times)\n",
    "    \n",
    "    tMin = t_ref - (2. + ti.w*M)/(2.*v)\n",
    "    tMax = t_ref + (2. + ti.w*M)/(2.*v)\n",
    "    overlappingTimesMask = (times > tMin) & (times < tMax)\n",
    "        \n",
    "    overlappingObsLC = truth_LC[overlappingTimesMask]\n",
    "    overlappingObsLCerr = truth_LC_err[overlappingTimesMask]\n",
    "    \n",
    "    # Since the light blocked by each pixel at each time step does not depend on the pixel's opacity, we can calculate it in advance to save time.\n",
    "    try:\n",
    "        LCdecs = np.load(path+\"_LCdecs_v{0}_N{1}_M{2}.npy\".format(v, N, M))\n",
    "    except IOError:\n",
    "        LCdecs = calculateLCdecrements(N=N,M=M,LDlaw=LDlaw, LDCs=LDCs, v=v, t_ref=t_ref, times=overlapTimes)\n",
    "        np.save(path+\"_LCdecs_v{0}_N{1}_M{2}.npy\".format(v, N, M), LCdecs)\n",
    "   \n",
    "    arcAvg_ax = plt.subplot(gs[5*i, 0:5])\n",
    "    SART_ax = plt.subplot(gs[5*i+1, 0:5])\n",
    "    pars_ax = plt.subplot(gs[5*i+2, 0:5])\n",
    "    comb_ax = plt.subplot(gs[5*i+3, 0:5])\n",
    "    \n",
    "    LC_ax = plt.subplot(gs[5*i:5*i+4, 5:])\n",
    "    \n",
    "    #Arc-averaging\n",
    "    try: \n",
    "        arcAvg = np.load(path+\"_arcAvg_v{0}_N{1}_M{2}.npy\".format(v, N, M))\n",
    "    except IOError:\n",
    "        avgBasis = makeArcBasisAverage(N=N, M=M, t_ref=t_ref, v=v, LDlaw=LDlaw, LDCs=LDCs, times=overlapTimes, LCdecrements=LCdecs, obsLC=overlappingObsLC, obsLCerr=overlappingObsLCerr)\n",
    "        arcAvg = np.mean(avgBasis,axis=0)\n",
    "        np.save(path+\"_arcAvg_v{0}_N{1}_M{2}.npy\".format(v, N, M), arcAvg)\n",
    "\n",
    "    arcAvg = arcAvg.reshape(N,M)\n",
    "    arcAvg = ((arcAvg + arcAvg[::-1,:])/2.)\n",
    "    \n",
    "    arcAvg_ti = TransitingImage(opacitymat=arcAvg, LDlaw=LDlaw, LDCs=LDCs, v=v, t_ref=t_ref, t_arr=overlapTimes)\n",
    "    arcAvg_LC, overlapTimes = arcAvg_ti.gen_LC(overlapTimes)\n",
    "    \n",
    "    arcAvg = renormBasis(arcAvg,arcAvg_LC,truth_LC)\n",
    "    arcAvg_ti = TransitingImage(opacitymat=arcAvg, LDlaw=LDlaw, LDCs=LDCs, v=v, t_ref=t_ref, t_arr=overlapTimes)\n",
    "    arcAvg_LC, overlapTimes = arcAvg_ti.gen_LC(overlapTimes)\n",
    "    \n",
    "    if np.max(arcAvg) > maxmax:\n",
    "        maxmax = np.max(arcAvg)\n",
    "\n",
    "    #SART\n",
    "    try:\n",
    "        raveledtau = np.genfromtxt(path+\"_v{0}_quadraticLD_10000_N{1}_M{2}_taus_short.txt\".format(v, N, M))\n",
    "    except IOError:\n",
    "        SARTgrid = invertLC(N=N,M=M, v=v, t_ref=t_ref, t_arr=overlapTimes, method=\"SART\",\n",
    "                            obsLC=overlappingObsLC, obsLCerr=overlappingObsLCerr,\n",
    "                            LDlaw=LDlaw,LDCs=LDCs,\n",
    "                            **{\"n_iter\":10000,\"filename\":\"{0}{1}_quadraticLD_{2}_N{3}_M{4}\".format(\"./boyajiansStar_dip5_v\", v, 10000, N, M),\"initstate\":\"uniform\"})\n",
    "        raveledtau = np.genfromtxt(path+\"_v{0}_quadraticLD_10000_N{1}_M{2}_taus.txt\".format(v, N, M))[-1]\n",
    "    \n",
    "    if (N>1) & (N%2 == 0): #N even\n",
    "        #raveledtau = top pixels only \n",
    "        raveledtauHalf = np.reshape(copy.deepcopy(raveledtau), (int(N/2), M))\n",
    "        raveledtau = np.zeros((N, M))\n",
    "        raveledtau[0:int(N/2)] = raveledtauHalf\n",
    "        for rowIdx in np.arange(N-1, int(N/2) - 1, -1):\n",
    "            raveledtau[rowIdx] = raveledtauHalf[N - rowIdx - 1]\n",
    "            \n",
    "    elif (N>1) & (N%2 != 0):\n",
    "        #raveledtau = top pixels + 1 row only \n",
    "        raveledtauHalf = np.reshape(copy.deepcopy(raveledtau), (int((N-1)/2 + 1), M))\n",
    "        raveledtau = np.zeros((N, M))\n",
    "        raveledtau[0:int((N-1)/2 + 1)] = raveledtauHalf\n",
    "        for rowIdx in np.arange(N-1, int((N-1)/2), -1):\n",
    "            raveledtau[rowIdx] = raveledtauHalf[N - rowIdx - 1]\n",
    "    \n",
    "    SART = raveledtau/2.\n",
    "    SART = arcRearrange(grid=SART, v=v, t_ref=t_ref, times=overlapTimes, LDlaw=LDlaw, LDCs=LDCs)\n",
    "    SART = arcRearrange(grid=SART, v=v, t_ref=t_ref, times=overlapTimes, LDlaw=LDlaw, LDCs=LDCs)\n",
    "    \n",
    "    SART_ti = TransitingImage(opacitymat=SART, LDlaw=LDlaw, LDCs=LDCs, v=v, t_ref=t_ref, t_arr=overlapTimes)\n",
    "    SART_LC, overlapTimes = SART_ti.gen_LC(overlapTimes)\n",
    "    \n",
    "    #deal with edge effects: edge pixels can sometimes artificially blow up to large opaicty values because their overlap areas are very small.\n",
    "    if (v == 0.8):\n",
    "        SART[:,0:6] = 0.\n",
    "        \n",
    "    if (v == 1.6):\n",
    "        SART[:,0:12] = 0.\n",
    "    \n",
    "    if (v == 3.2):\n",
    "        SART[:,0:20] = 0.\n",
    "        \n",
    "    if (v == 6.4):\n",
    "        SART[:,0:42] = 0.\n",
    "    \n",
    "    SART = renormBasis(SART, SART_LC, truth_LC)\n",
    "    SART_ti = TransitingImage(opacitymat=SART, LDlaw=LDlaw, LDCs=LDCs, v=v, t_ref=t_ref, t_arr=overlapTimes)\n",
    "    SART_LC, overlapTimes = SART_ti.gen_LC(overlapTimes)\n",
    "    \n",
    "    if np.max(SART) > maxmax:\n",
    "        maxmax = np.max(SART)\n",
    "    \n",
    "    #dF/dt parsimony\n",
    "    try: \n",
    "        pars = np.load(path+\"_arcParsimony_v{0}_N{1}_M{2}.npy\".format(v, N, M))\n",
    "    except IOError:\n",
    "        parsBasis = makeArcBasisParsimony(N=N, M=M, t_ref=t_ref, v=v, LDlaw=LDlaw, LDCs=LDCs, times=overlapTimes, LCdecrements=LCdecs, obsLC=overlappingObsLC, obsLCerr=overlappingObsLCerr)\n",
    "        pars = np.mean(parsBasis,axis=0)\n",
    "        np.save(path+\"_arcParsimony_v{0}_N{1}_M{2}.npy\".format(v, N, M), pars)\n",
    "    \n",
    "    pars = pars.reshape(N,M)\n",
    "    pars = ((pars + pars[::-1,:])/2.)\n",
    "    \n",
    "    pars_ti = TransitingImage(opacitymat=pars, LDlaw=LDlaw, LDCs=LDCs, v=v, t_ref=t_ref, t_arr=overlapTimes)\n",
    "    pars_LC, overlapTimes = pars_ti.gen_LC(overlapTimes)\n",
    "    \n",
    "    pars = renormBasis(pars,pars_LC,truth_LC)\n",
    "    pars_ti = TransitingImage(opacitymat=pars, LDlaw=LDlaw, LDCs=LDCs, v=v, t_ref=t_ref, t_arr=overlapTimes)\n",
    "    pars_LC, overlapTimes = pars_ti.gen_LC(overlapTimes)\n",
    "    \n",
    "    if np.max(pars) > maxmax:\n",
    "        maxmax = np.max(pars)\n",
    "    \n",
    "    #arc combinatorics\n",
    "    try:\n",
    "        comb = np.load(path+\"_arcCombinatorics_v{0}_N{1}_M{2}.npy\".format(v, N, M))\n",
    "    except IOError:\n",
    "        combBasis = makeArcBasisCombinatoric(N=N, M=M, t_ref=t_ref, v=v, LDlaw=LDlaw, LDCs=LDCs, times=overlapTimes, LCdecrements=LCdecs, obsLC=overlappingObsLC, obsLCerr=overlappingObsLCerr)\n",
    "        comb = np.mean(combBasis,axis=0)\n",
    "        np.save(path+\"_arcCombinatorics_v{0}_N{1}_M{2}.npy\".format(v, N, M), comb)\n",
    "    \n",
    "    comb = comb.reshape(N,M)\n",
    "    comb = ((comb + comb[::-1,:])/2.)\n",
    "    \n",
    "    comb_ti = TransitingImage(opacitymat=comb, LDlaw=LDlaw, LDCs=LDCs, v=v, t_ref=t_ref, t_arr=overlapTimes)\n",
    "    comb_LC, overlapTimes = comb_ti.gen_LC(overlapTimes)\n",
    "    \n",
    "    comb = renormBasis(comb,comb_LC,truth_LC)\n",
    "    comb_ti = TransitingImage(opacitymat=comb, LDlaw=LDlaw, LDCs=LDCs, v=v, t_ref=t_ref, t_arr=overlapTimes)\n",
    "    comb_LC, overlapTimes = comb_ti.gen_LC(overlapTimes)\n",
    "    \n",
    "    methodList=[\"Arc-averaging\",\"SART\",\"dF/dt parsimony\",\"Arc combinatorics\"]\n",
    "    RMSarr = np.array((RMS(overlappingObsLC,overlappingObsLCerr,arcAvg_LC),RMS(overlappingObsLC,overlappingObsLCerr,SART_LC),RMS(overlappingObsLC,overlappingObsLCerr,pars_LC),RMS(overlappingObsLC,overlappingObsLCerr,comb_LC)))\n",
    "    \n",
    "    bestMethod = methodList[np.argmin(RMSarr)]\n",
    "    \n",
    "    print \"lowest-RMS method is: {0}\".format(bestMethod)\n",
    "    \n",
    "    if np.max(comb) > maxmax:\n",
    "        maxmax = np.max(comb)\n",
    "    \n",
    "    \n",
    "    #plot images\n",
    "    arcAvgImg = arcAvg_ax.imshow(arcAvg, cmap='Greys', interpolation='nearest',vmin=0.,vmax=maxmax)\n",
    "    SARTImg = SART_ax.imshow(SART, cmap='Greys', interpolation='nearest',vmin=0.,vmax=maxmax)\n",
    "    parsImg = pars_ax.imshow(pars, cmap='Greys', interpolation='nearest',vmin=0.,vmax=maxmax)\n",
    "    combImg = comb_ax.imshow(comb, cmap='Greys', interpolation='nearest',vmin=0.,vmax=maxmax)\n",
    "    \n",
    "    #plot light curves\n",
    "    LC_ax.plot(overlapTimes-t_ref, overlappingObsLC,'k-',lw=3,label='Truth')\n",
    "    LC_ax.plot(overlapTimes-t_ref, arcAvg_LC,ls='-',lw=1.5,color='#F90000',label='Arc-averaging')\n",
    "    LC_ax.plot(overlapTimes-t_ref, SART_LC,ls='-',lw=1.5,color='#0030FF',label='SART')\n",
    "    LC_ax.plot(overlapTimes-t_ref, pars_LC,ls='-',lw=1.5,color='#F77F00',label='dF/dt parsimony')\n",
    "    LC_ax.plot(overlapTimes-t_ref, comb_LC,ls='-',lw=1.5,color='#FCBF49',label='Arc combinatorics')\n",
    "    LC_ax.set_ylim(np.min(truth_LC)-0.01,1.01)\n",
    "    LC_ax.set_xlim(-4.85-t_ref, 6.01)\n",
    "    \n",
    "    #plot formatting\n",
    "    if i==3:\n",
    "        arcAvg_ax.plot(np.array((-5)), np.array((N/2.)), marker='o',mec='k',mew=2,color='#F90000',ms=15, clip_on=False)\n",
    "        SART_ax.plot(np.array((-5)), np.array((N/2.)), marker='o',mec='k',mew=2,color='#0030FF',ms=15, clip_on=False)\n",
    "        pars_ax.plot(np.array((-5)), np.array((N/2.)), marker='o',mec='k',mew=2,color='#F77F00',ms=15, clip_on=False)\n",
    "        comb_ax.plot(np.array((-5)), np.array((N/2.)), marker='o',mec='k',mew=2,color='#FCBF49',ms=15, clip_on=False)\n",
    "    \n",
    "    for ax in [arcAvg_ax, SART_ax, pars_ax, comb_ax]:\n",
    "        ax.set_xlim(-0.5,M-0.5)\n",
    "        ax.set_ylim(-0.5,N-0.5)\n",
    "        ax.set_xticks([])\n",
    "        ax.set_yticks([])\n",
    "    \n",
    "    LC_ax.set_xticks(np.arange(-6,7,2))\n",
    "    LC_ax.set_yticks(np.arange(0.85,1.01,0.05))  \n",
    "    LC_ax.set_xticklabels([])\n",
    "    LC_ax.set_yticklabels([])  \n",
    "    LC_ax.yaxis.tick_right()\n",
    "    \n",
    "plt.show()\n",
    "#plt.savefig(\"./boyajiansStar_dip5.pdf\",fmt=\"pdf\")\n"
   ]
  },
  {
   "cell_type": "code",
   "execution_count": null,
   "metadata": {},
   "outputs": [],
   "source": []
  },
  {
   "cell_type": "code",
   "execution_count": null,
   "metadata": {},
   "outputs": [],
   "source": []
  },
  {
   "cell_type": "code",
   "execution_count": null,
   "metadata": {},
   "outputs": [],
   "source": []
  },
  {
   "cell_type": "code",
   "execution_count": 37,
   "metadata": {},
   "outputs": [],
   "source": [
    "import tqdm as tqdm"
   ]
  },
  {
   "cell_type": "code",
   "execution_count": 4,
   "metadata": {},
   "outputs": [],
   "source": [
    "hdul = fits.open('hlsp_eleanor_tess_ffi_tic294970584_s09_tess_v1.0.4_lc.fits')"
   ]
  },
  {
   "cell_type": "code",
   "execution_count": 17,
   "metadata": {},
   "outputs": [],
   "source": [
    "times = hdul[1].data['TIME']"
   ]
  },
  {
   "cell_type": "code",
   "execution_count": 18,
   "metadata": {},
   "outputs": [],
   "source": [
    "truth_LC = hdul[1].data['PSF_FLUX']"
   ]
  },
  {
   "cell_type": "code",
   "execution_count": 23,
   "metadata": {},
   "outputs": [],
   "source": [
    "truth_LC_err = hdul[1].data['FLUX_ERR']"
   ]
  },
  {
   "cell_type": "code",
   "execution_count": 24,
   "metadata": {},
   "outputs": [
    {
     "data": {
      "text/plain": [
       "[<matplotlib.lines.Line2D at 0x1a16502610>]"
      ]
     },
     "execution_count": 24,
     "metadata": {},
     "output_type": "execute_result"
    },
    {
     "data": {
      "image/png": "[encoded data removed]",
      "text/plain": [
       "<Figure size 432x288 with 1 Axes>"
      ]
     },
     "metadata": {
      "needs_background": "light"
     },
     "output_type": "display_data"
    }
   ],
   "source": [
    "plt.plot(times, truth_LC)"
   ]
  },
  {
   "cell_type": "code",
   "execution_count": 26,
   "metadata": {},
   "outputs": [
    {
     "data": {
      "text/plain": [
       "1154"
      ]
     },
     "execution_count": 26,
     "metadata": {},
     "output_type": "execute_result"
    }
   ],
   "source": [
    "len(truth_LC)"
   ]
  },
  {
   "cell_type": "code",
   "execution_count": 20,
   "metadata": {},
   "outputs": [],
   "source": [
    "# Here, we present an inversion of Dip 5 of Boyajian's Star, by all four of the available inversion algorithm.\n",
    "# This code reproduces figure 12 of Sandford et al. 2018.\n",
    "\n",
    "# Limb-darkening coefficients interpolated from Sing (2010):\n",
    "LDlaw=\"quadratic\"\n",
    "LDCs = [0.34, 0.34] #waiting for Ann Marie to let me know\n",
    "# according to one paper I read, for a 6500K star, the LDCs should add to ~0.68"
   ]
  },
  {
   "cell_type": "code",
   "execution_count": 43,
   "metadata": {},
   "outputs": [
    {
     "name": "stdout",
     "output_type": "stream",
     "text": [
      "v = 0.4\n"
     ]
    },
    {
     "name": "stderr",
     "output_type": "stream",
     "text": [
      "/Users/piperfrances/anaconda3/envs/py2/lib/python2.7/site-packages/ipykernel_launcher.py:28: DeprecationWarning: elementwise comparison failed; this will raise an error in the future.\n"
     ]
    },
    {
     "ename": "ValueError",
     "evalue": "Big-endian buffer not supported on little-endian compiler",
     "output_type": "error",
     "traceback": [
      "\u001b[0;31m---------------------------------------------------------------------------\u001b[0m",
      "\u001b[0;31mValueError\u001b[0m                                Traceback (most recent call last)",
      "\u001b[0;32m<ipython-input-43-5770301df2d1>\u001b[0m in \u001b[0;36m<module>\u001b[0;34m()\u001b[0m\n\u001b[1;32m     53\u001b[0m         \u001b[0marcAvg\u001b[0m \u001b[0;34m=\u001b[0m \u001b[0mnp\u001b[0m\u001b[0;34m.\u001b[0m\u001b[0mload\u001b[0m\u001b[0;34m(\u001b[0m\u001b[0;34m\"./boyajianResults/boyajiansStar_dip5_arcAvg_v{0}_N{1}_M{2}.npy\"\u001b[0m\u001b[0;34m.\u001b[0m\u001b[0mformat\u001b[0m\u001b[0;34m(\u001b[0m\u001b[0mv\u001b[0m\u001b[0;34m,\u001b[0m \u001b[0mN\u001b[0m\u001b[0;34m,\u001b[0m \u001b[0mM\u001b[0m\u001b[0;34m)\u001b[0m\u001b[0;34m)\u001b[0m\u001b[0;34m\u001b[0m\u001b[0m\n\u001b[1;32m     54\u001b[0m     \u001b[0;32mexcept\u001b[0m \u001b[0mIOError\u001b[0m\u001b[0;34m:\u001b[0m\u001b[0;34m\u001b[0m\u001b[0m\n\u001b[0;32m---> 55\u001b[0;31m         \u001b[0mavgBasis\u001b[0m \u001b[0;34m=\u001b[0m \u001b[0mmakeArcBasisAverage\u001b[0m\u001b[0;34m(\u001b[0m\u001b[0mN\u001b[0m\u001b[0;34m=\u001b[0m\u001b[0mN\u001b[0m\u001b[0;34m,\u001b[0m \u001b[0mM\u001b[0m\u001b[0;34m=\u001b[0m\u001b[0mM\u001b[0m\u001b[0;34m,\u001b[0m \u001b[0mt_ref\u001b[0m\u001b[0;34m=\u001b[0m\u001b[0mt_ref\u001b[0m\u001b[0;34m,\u001b[0m \u001b[0mv\u001b[0m\u001b[0;34m=\u001b[0m\u001b[0mv\u001b[0m\u001b[0;34m,\u001b[0m \u001b[0mLDlaw\u001b[0m\u001b[0;34m=\u001b[0m\u001b[0mLDlaw\u001b[0m\u001b[0;34m,\u001b[0m \u001b[0mLDCs\u001b[0m\u001b[0;34m=\u001b[0m\u001b[0mLDCs\u001b[0m\u001b[0;34m,\u001b[0m \u001b[0mtimes\u001b[0m\u001b[0;34m=\u001b[0m\u001b[0moverlapTimes\u001b[0m\u001b[0;34m,\u001b[0m \u001b[0mLCdecrements\u001b[0m\u001b[0;34m=\u001b[0m\u001b[0mLCdecs\u001b[0m\u001b[0;34m,\u001b[0m \u001b[0mobsLC\u001b[0m\u001b[0;34m=\u001b[0m\u001b[0moverlappingObsLC\u001b[0m\u001b[0;34m,\u001b[0m \u001b[0mobsLCerr\u001b[0m\u001b[0;34m=\u001b[0m\u001b[0moverlappingObsLCerr\u001b[0m\u001b[0;34m)\u001b[0m\u001b[0;34m\u001b[0m\u001b[0m\n\u001b[0m\u001b[1;32m     56\u001b[0m         \u001b[0marcAvg\u001b[0m \u001b[0;34m=\u001b[0m \u001b[0mnp\u001b[0m\u001b[0;34m.\u001b[0m\u001b[0mmean\u001b[0m\u001b[0;34m(\u001b[0m\u001b[0mavgBasis\u001b[0m\u001b[0;34m,\u001b[0m\u001b[0maxis\u001b[0m\u001b[0;34m=\u001b[0m\u001b[0;36m0\u001b[0m\u001b[0;34m)\u001b[0m\u001b[0;34m\u001b[0m\u001b[0m\n\u001b[1;32m     57\u001b[0m         \u001b[0mnp\u001b[0m\u001b[0;34m.\u001b[0m\u001b[0msave\u001b[0m\u001b[0;34m(\u001b[0m\u001b[0;34m\"/Users/piperfrances/BSRC/code/TIC294970584/TIC294970584_arcAvg_v{0}_N{1}_M{2}.npy\"\u001b[0m\u001b[0;34m.\u001b[0m\u001b[0mformat\u001b[0m\u001b[0;34m(\u001b[0m\u001b[0mv\u001b[0m\u001b[0;34m,\u001b[0m \u001b[0mN\u001b[0m\u001b[0;34m,\u001b[0m \u001b[0mM\u001b[0m\u001b[0;34m)\u001b[0m\u001b[0;34m,\u001b[0m \u001b[0marcAvg\u001b[0m\u001b[0;34m)\u001b[0m\u001b[0;34m\u001b[0m\u001b[0m\n",
      "\u001b[0;32mEightBitTransit/inversion.pyx\u001b[0m in \u001b[0;36mEightBitTransit.inversion.makeArcBasisAverage\u001b[0;34m()\u001b[0m\n",
      "\u001b[0;31mValueError\u001b[0m: Big-endian buffer not supported on little-endian compiler"
     ]
    },
    {
     "data": {
      "image/png": "[encoded data removed]",
      "text/plain": [
       "<Figure size 1152x864 with 5 Axes>"
      ]
     },
     "metadata": {
      "needs_background": "light"
     },
     "output_type": "display_data"
    }
   ],
   "source": [
    "test_vs = np.array((0.4,0.8,1.6,3.2))\n",
    "\n",
    "t_ref=times[500]\n",
    "\n",
    "fig = plt.figure(figsize=(16,3*len(test_vs)))\n",
    "gs = gridspec.GridSpec(len(test_vs)*5, 7)\n",
    "\n",
    "maxmax=0.\n",
    "\n",
    "for i in range(0, len(test_vs)):\n",
    "    v = test_vs[i]\n",
    "    print \"v = {0}\".format(v)\n",
    "    \n",
    "    # N chosen to be the highest possible integer value at each v, given that M is calculated from v (see below)\n",
    "    # and that N * M cannot exceed the number of observed data points.\n",
    "    if v < 1.0:\n",
    "        N = 10\n",
    "    elif v < 2.0:\n",
    "        N = 7\n",
    "    else:\n",
    "        N = 5\n",
    "    \n",
    "    w = 2./N\n",
    "    M = int(np.ceil((2.*(t_ref - np.min(times))*v - 2.)/w))\n",
    "    \n",
    "    \n",
    "    ti = TransitingImage(opacitymat=np.zeros((N,M)), LDlaw=LDlaw, LDCs=LDCs, v=v, t_ref=t_ref, t_arr=times)\n",
    "    trial_LC, overlapTimes = ti.gen_LC(times)\n",
    "    \n",
    "    tMin = t_ref - (2. + ti.w*M)/(2.*v)\n",
    "    tMax = t_ref + (2. + ti.w*M)/(2.*v)\n",
    "    overlappingTimesMask = (times > tMin) & (times < tMax)\n",
    "        \n",
    "    overlappingObsLC = truth_LC[overlappingTimesMask]\n",
    "    overlappingObsLCerr = truth_LC_err[overlappingTimesMask]\n",
    "    \n",
    "    # Since the light blocked by each pixel at each time step does not depend on the pixel's opacity, we can calculate it in advance to save time.\n",
    "    try:\n",
    "        LCdecs = np.load(\"./boyajianResults/boyajiansStar_dip5_LCdecs_v{0}_N{1}_M{2}.npy\".format(v, N, M))\n",
    "    except IOError:\n",
    "        LCdecs = calculateLCdecrements(N=N,M=M,LDlaw=LDlaw, LDCs=LDCs, v=v, t_ref=t_ref, times=overlapTimes)\n",
    "        np.save(\"/Users/piperfrances/BSRC/code/TIC294970584/TIC294970584_LCdecs_v{0}_N{1}_M{2}.npy\".format(v, N, M), LCdecs)\n",
    "   \n",
    "    arcAvg_ax = plt.subplot(gs[5*i, 0:5])\n",
    "    SART_ax = plt.subplot(gs[5*i+1, 0:5])\n",
    "    pars_ax = plt.subplot(gs[5*i+2, 0:5])\n",
    "    comb_ax = plt.subplot(gs[5*i+3, 0:5])\n",
    "    \n",
    "    LC_ax = plt.subplot(gs[5*i:5*i+4, 5:])\n",
    "    \n",
    "    #Arc-averaging\n",
    "    try: \n",
    "        arcAvg = np.load(\"./boyajianResults/boyajiansStar_dip5_arcAvg_v{0}_N{1}_M{2}.npy\".format(v, N, M))\n",
    "    except IOError:\n",
    "        avgBasis = makeArcBasisAverage(N=N, M=M, t_ref=t_ref, v=v, LDlaw=LDlaw, LDCs=LDCs, times=overlapTimes, LCdecrements=LCdecs, obsLC=overlappingObsLC, obsLCerr=overlappingObsLCerr)\n",
    "        arcAvg = np.mean(avgBasis,axis=0)\n",
    "        np.save(\"/Users/piperfrances/BSRC/code/TIC294970584/TIC294970584_arcAvg_v{0}_N{1}_M{2}.npy\".format(v, N, M), arcAvg)\n",
    "\n",
    "    arcAvg = arcAvg.reshape(N,M)\n",
    "    arcAvg = ((arcAvg + arcAvg[::-1,:])/2.)\n",
    "    \n",
    "    arcAvg_ti = TransitingImage(opacitymat=arcAvg, LDlaw=LDlaw, LDCs=LDCs, v=v, t_ref=t_ref, t_arr=overlapTimes)\n",
    "    arcAvg_LC, overlapTimes = arcAvg_ti.gen_LC(overlapTimes)\n",
    "    \n",
    "    arcAvg = renormBasis(arcAvg,arcAvg_LC,truth_LC)\n",
    "    arcAvg_ti = TransitingImage(opacitymat=arcAvg, LDlaw=LDlaw, LDCs=LDCs, v=v, t_ref=t_ref, t_arr=overlapTimes)\n",
    "    arcAvg_LC, overlapTimes = arcAvg_ti.gen_LC(overlapTimes)\n",
    "    \n",
    "    if np.max(arcAvg) > maxmax:\n",
    "        maxmax = np.max(arcAvg)\n",
    "\n",
    "    #SART\n",
    "    try:\n",
    "        raveledtau = np.genfromtxt(\"/Users/piperfrances/BSRC/code/TIC294970584/TIC294970584_v{0}_quadraticLD_10000_N{1}_M{2}_taus_short.txt\".format(v, N, M))\n",
    "    except IOError:\n",
    "        SARTgrid = invertLC(N=N,M=M, v=v, t_ref=t_ref, t_arr=overlapTimes, method=\"SART\",\n",
    "                            obsLC=overlappingObsLC, obsLCerr=overlappingObsLCerr,\n",
    "                            LDlaw=LDlaw,LDCs=LDCs,\n",
    "                            **{\"n_iter\":10000,\"filename\":\"{0}{1}_quadraticLD_{2}_N{3}_M{4}\".format(\"./boyajiansStar_dip5_v\", v, 10000, N, M),\"initstate\":\"uniform\"})\n",
    "        raveledtau = np.genfromtxt(\"/Users/piperfrances/BSRC/code/TIC294970584/TIC294970584_v{0}_quadraticLD_10000_N{1}_M{2}_taus.txt\".format(v, N, M))[-1]\n",
    "    \n",
    "    if (N>1) & (N%2 == 0): #N even\n",
    "        #raveledtau = top pixels only \n",
    "        raveledtauHalf = np.reshape(copy.deepcopy(raveledtau), (int(N/2), M))\n",
    "        raveledtau = np.zeros((N, M))\n",
    "        raveledtau[0:int(N/2)] = raveledtauHalf\n",
    "        for rowIdx in np.arange(N-1, int(N/2) - 1, -1):\n",
    "            raveledtau[rowIdx] = raveledtauHalf[N - rowIdx - 1]\n",
    "            \n",
    "    elif (N>1) & (N%2 != 0):\n",
    "        #raveledtau = top pixels + 1 row only \n",
    "        raveledtauHalf = np.reshape(copy.deepcopy(raveledtau), (int((N-1)/2 + 1), M))\n",
    "        raveledtau = np.zeros((N, M))\n",
    "        raveledtau[0:int((N-1)/2 + 1)] = raveledtauHalf\n",
    "        for rowIdx in np.arange(N-1, int((N-1)/2), -1):\n",
    "            raveledtau[rowIdx] = raveledtauHalf[N - rowIdx - 1]\n",
    "    \n",
    "    SART = raveledtau/2.\n",
    "    SART = arcRearrange(grid=SART, v=v, t_ref=t_ref, times=overlapTimes, LDlaw=LDlaw, LDCs=LDCs)\n",
    "    SART = arcRearrange(grid=SART, v=v, t_ref=t_ref, times=overlapTimes, LDlaw=LDlaw, LDCs=LDCs)\n",
    "    \n",
    "    SART_ti = TransitingImage(opacitymat=SART, LDlaw=LDlaw, LDCs=LDCs, v=v, t_ref=t_ref, t_arr=overlapTimes)\n",
    "    SART_LC, overlapTimes = SART_ti.gen_LC(overlapTimes)\n",
    "    \n",
    "    #deal with edge effects: edge pixels can sometimes artificially blow up to large opaicty values because their overlap areas are very small.\n",
    "    if (v == 0.8):\n",
    "        SART[:,0:6] = 0.\n",
    "        \n",
    "    if (v == 1.6):\n",
    "        SART[:,0:12] = 0.\n",
    "    \n",
    "    if (v == 3.2):\n",
    "        SART[:,0:20] = 0.\n",
    "        \n",
    "    if (v == 6.4):\n",
    "        SART[:,0:42] = 0.\n",
    "    \n",
    "    SART = renormBasis(SART, SART_LC, truth_LC)\n",
    "    SART_ti = TransitingImage(opacitymat=SART, LDlaw=LDlaw, LDCs=LDCs, v=v, t_ref=t_ref, t_arr=overlapTimes)\n",
    "    SART_LC, overlapTimes = SART_ti.gen_LC(overlapTimes)\n",
    "    \n",
    "    if np.max(SART) > maxmax:\n",
    "        maxmax = np.max(SART)\n",
    "    \n",
    "    #dF/dt parsimony\n",
    "    try: \n",
    "        pars = np.load(\"/Users/piperfrances/BSRC/code/TIC294970584/TIC294970584_arcParsimony_v{0}_N{1}_M{2}.npy\".format(v, N, M))\n",
    "    except IOError:\n",
    "        parsBasis = makeArcBasisParsimony(N=N, M=M, t_ref=t_ref, v=v, LDlaw=LDlaw, LDCs=LDCs, times=overlapTimes, LCdecrements=LCdecs, obsLC=overlappingObsLC, obsLCerr=overlappingObsLCerr)\n",
    "        pars = np.mean(parsBasis,axis=0)\n",
    "        np.save(\"/Users/piperfrances/BSRC/code/TIC294970584/TIC294970584_arcParsimony_v{0}_N{1}_M{2}.npy\".format(v, N, M), pars)\n",
    "    \n",
    "    pars = pars.reshape(N,M)\n",
    "    pars = ((pars + pars[::-1,:])/2.)\n",
    "    \n",
    "    pars_ti = TransitingImage(opacitymat=pars, LDlaw=LDlaw, LDCs=LDCs, v=v, t_ref=t_ref, t_arr=overlapTimes)\n",
    "    pars_LC, overlapTimes = pars_ti.gen_LC(overlapTimes)\n",
    "    \n",
    "    pars = renormBasis(pars,pars_LC,truth_LC)\n",
    "    pars_ti = TransitingImage(opacitymat=pars, LDlaw=LDlaw, LDCs=LDCs, v=v, t_ref=t_ref, t_arr=overlapTimes)\n",
    "    pars_LC, overlapTimes = pars_ti.gen_LC(overlapTimes)\n",
    "    \n",
    "    if np.max(pars) > maxmax:\n",
    "        maxmax = np.max(pars)\n",
    "    \n",
    "    #arc combinatorics\n",
    "    try:\n",
    "        comb = np.load(\"/Users/piperfrances/BSRC/code/TIC294970584/TIC294970584_arcCombinatorics_v{0}_N{1}_M{2}.npy\".format(v, N, M))\n",
    "    except IOError:\n",
    "        combBasis = makeArcBasisCombinatoric(N=N, M=M, t_ref=t_ref, v=v, LDlaw=LDlaw, LDCs=LDCs, times=overlapTimes, LCdecrements=LCdecs, obsLC=overlappingObsLC, obsLCerr=overlappingObsLCerr)\n",
    "        comb = np.mean(combBasis,axis=0)\n",
    "        np.save(\"/Users/piperfrances/BSRC/code/TIC294970584/TIC294970584_arcCombinatorics_v{0}_N{1}_M{2}.npy\".format(v, N, M), comb)\n",
    "    \n",
    "    comb = comb.reshape(N,M)\n",
    "    comb = ((comb + comb[::-1,:])/2.)\n",
    "    \n",
    "    comb_ti = TransitingImage(opacitymat=comb, LDlaw=LDlaw, LDCs=LDCs, v=v, t_ref=t_ref, t_arr=overlapTimes)\n",
    "    comb_LC, overlapTimes = comb_ti.gen_LC(overlapTimes)\n",
    "    \n",
    "    comb = renormBasis(comb,comb_LC,truth_LC)\n",
    "    comb_ti = TransitingImage(opacitymat=comb, LDlaw=LDlaw, LDCs=LDCs, v=v, t_ref=t_ref, t_arr=overlapTimes)\n",
    "    comb_LC, overlapTimes = comb_ti.gen_LC(overlapTimes)\n",
    "    \n",
    "    methodList=[\"Arc-averaging\",\"SART\",\"dF/dt parsimony\",\"Arc combinatorics\"]\n",
    "    RMSarr = np.array((RMS(overlappingObsLC,overlappingObsLCerr,arcAvg_LC),RMS(overlappingObsLC,overlappingObsLCerr,SART_LC),RMS(overlappingObsLC,overlappingObsLCerr,pars_LC),RMS(overlappingObsLC,overlappingObsLCerr,comb_LC)))\n",
    "    \n",
    "    bestMethod = methodList[np.argmin(RMSarr)]\n",
    "    \n",
    "    print \"lowest-RMS method is: {0}\".format(bestMethod)\n",
    "    \n",
    "    if np.max(comb) > maxmax:\n",
    "        maxmax = np.max(comb)\n",
    "    \n",
    "    \n",
    "    #plot images\n",
    "    arcAvgImg = arcAvg_ax.imshow(arcAvg, cmap='Greys', interpolation='nearest',vmin=0.,vmax=maxmax)\n",
    "    SARTImg = SART_ax.imshow(SART, cmap='Greys', interpolation='nearest',vmin=0.,vmax=maxmax)\n",
    "    parsImg = pars_ax.imshow(pars, cmap='Greys', interpolation='nearest',vmin=0.,vmax=maxmax)\n",
    "    combImg = comb_ax.imshow(comb, cmap='Greys', interpolation='nearest',vmin=0.,vmax=maxmax)\n",
    "    \n",
    "    #plot light curves\n",
    "    LC_ax.plot(overlapTimes-t_ref, overlappingObsLC,'k-',lw=3,label='Truth')\n",
    "    LC_ax.plot(overlapTimes-t_ref, arcAvg_LC,ls='-',lw=1.5,color='#F90000',label='Arc-averaging')\n",
    "    LC_ax.plot(overlapTimes-t_ref, SART_LC,ls='-',lw=1.5,color='#0030FF',label='SART')\n",
    "    LC_ax.plot(overlapTimes-t_ref, pars_LC,ls='-',lw=1.5,color='#F77F00',label='dF/dt parsimony')\n",
    "    LC_ax.plot(overlapTimes-t_ref, comb_LC,ls='-',lw=1.5,color='#FCBF49',label='Arc combinatorics')\n",
    "    LC_ax.set_ylim(np.min(truth_LC)-0.01,1.01)\n",
    "    LC_ax.set_xlim(-4.85-t_ref, 6.01)\n",
    "    \n",
    "    #plot formatting\n",
    "    if i==3:\n",
    "        arcAvg_ax.plot(np.array((-5)), np.array((N/2.)), marker='o',mec='k',mew=2,color='#F90000',ms=15, clip_on=False)\n",
    "        SART_ax.plot(np.array((-5)), np.array((N/2.)), marker='o',mec='k',mew=2,color='#0030FF',ms=15, clip_on=False)\n",
    "        pars_ax.plot(np.array((-5)), np.array((N/2.)), marker='o',mec='k',mew=2,color='#F77F00',ms=15, clip_on=False)\n",
    "        comb_ax.plot(np.array((-5)), np.array((N/2.)), marker='o',mec='k',mew=2,color='#FCBF49',ms=15, clip_on=False)\n",
    "    \n",
    "    for ax in [arcAvg_ax, SART_ax, pars_ax, comb_ax]:\n",
    "        ax.set_xlim(-0.5,M-0.5)\n",
    "        ax.set_ylim(-0.5,N-0.5)\n",
    "        ax.set_xticks([])\n",
    "        ax.set_yticks([])\n",
    "    \n",
    "    LC_ax.set_xticks(np.arange(-6,7,2))\n",
    "    LC_ax.set_yticks(np.arange(0.85,1.01,0.05))  \n",
    "    LC_ax.set_xticklabels([])\n",
    "    LC_ax.set_yticklabels([])  \n",
    "    LC_ax.yaxis.tick_right()\n",
    "    \n",
    "plt.show()\n",
    "#plt.savefig(\"./boyajiansStar_dip5.pdf\",fmt=\"pdf\")\n"
   ]
  },
  {
   "cell_type": "code",
   "execution_count": 42,
   "metadata": {},
   "outputs": [
    {
     "name": "stdout",
     "output_type": "stream",
     "text": [
      "/Users/piperfrances/BSRC/code/TIC294970584\n"
     ]
    }
   ],
   "source": [
    "cd TIC294970584"
   ]
  },
  {
   "cell_type": "code",
   "execution_count": null,
   "metadata": {},
   "outputs": [],
   "source": []
  }
 ],
 "metadata": {
  "kernelspec": {
   "display_name": "Python 2",
   "language": "python",
   "name": "python2"
  },
  "language_info": {
   "codemirror_mode": {
    "name": "ipython",
    "version": 2
   },
   "file_extension": ".py",
   "mimetype": "text/x-python",
   "name": "python",
   "nbconvert_exporter": "python",
   "pygments_lexer": "ipython2",
   "version": "2.7.16"
  }
 },
 "nbformat": 4,
 "nbformat_minor": 4
}
